{
 "cells": [
  {
   "cell_type": "code",
   "execution_count": 1,
   "metadata": {},
   "outputs": [],
   "source": [
    "#1. Import the numpy package under the name `np`\n",
    "import numpy as np"
   ]
  },
  {
   "cell_type": "code",
   "execution_count": 2,
   "metadata": {},
   "outputs": [
    {
     "name": "stdout",
     "output_type": "stream",
     "text": [
      "1.24.2\n"
     ]
    }
   ],
   "source": [
    "#2. Print the numpy version and the configuration \n",
    "print(np.__version__)"
   ]
  },
  {
   "cell_type": "code",
   "execution_count": 3,
   "metadata": {},
   "outputs": [
    {
     "name": "stdout",
     "output_type": "stream",
     "text": [
      "[0. 0. 0. 0. 0. 0. 0. 0. 0. 0.]\n"
     ]
    }
   ],
   "source": [
    "#3. Create a null vector of size 10\n",
    "null_vector = np.zeros(10)\n",
    "print(null_vector)"
   ]
  },
  {
   "cell_type": "code",
   "execution_count": 4,
   "metadata": {},
   "outputs": [
    {
     "name": "stdout",
     "output_type": "stream",
     "text": [
      "Memory size of the array: 96 bytes\n"
     ]
    }
   ],
   "source": [
    "#4. How to find the memory size of any array\n",
    "arr = np.zeros((3, 4))\n",
    "memory_size = arr.nbytes\n",
    "print(\"Memory size of the array:\", memory_size, \"bytes\")"
   ]
  },
  {
   "cell_type": "code",
   "execution_count": 5,
   "metadata": {},
   "outputs": [
    {
     "name": "stdout",
     "output_type": "stream",
     "text": [
      "Help on ufunc in numpy:\n",
      "\n",
      "numpy.add = <ufunc 'add'>\n",
      "    add(x1, x2, /, out=None, *, where=True, casting='same_kind', order='K', dtype=None, subok=True[, signature, extobj])\n",
      "    \n",
      "    Add arguments element-wise.\n",
      "    \n",
      "    Parameters\n",
      "    ----------\n",
      "    x1, x2 : array_like\n",
      "        The arrays to be added.\n",
      "        If ``x1.shape != x2.shape``, they must be broadcastable to a common\n",
      "        shape (which becomes the shape of the output).\n",
      "    out : ndarray, None, or tuple of ndarray and None, optional\n",
      "        A location into which the result is stored. If provided, it must have\n",
      "        a shape that the inputs broadcast to. If not provided or None,\n",
      "        a freshly-allocated array is returned. A tuple (possible only as a\n",
      "        keyword argument) must have length equal to the number of outputs.\n",
      "    where : array_like, optional\n",
      "        This condition is broadcast over the input. At locations where the\n",
      "        condition is True, the `out` array will be set to the ufunc result.\n",
      "        Elsewhere, the `out` array will retain its original value.\n",
      "        Note that if an uninitialized `out` array is created via the default\n",
      "        ``out=None``, locations within it where the condition is False will\n",
      "        remain uninitialized.\n",
      "    **kwargs\n",
      "        For other keyword-only arguments, see the\n",
      "        :ref:`ufunc docs <ufuncs.kwargs>`.\n",
      "    \n",
      "    Returns\n",
      "    -------\n",
      "    add : ndarray or scalar\n",
      "        The sum of `x1` and `x2`, element-wise.\n",
      "        This is a scalar if both `x1` and `x2` are scalars.\n",
      "    \n",
      "    Notes\n",
      "    -----\n",
      "    Equivalent to `x1` + `x2` in terms of array broadcasting.\n",
      "    \n",
      "    Examples\n",
      "    --------\n",
      "    >>> np.add(1.0, 4.0)\n",
      "    5.0\n",
      "    >>> x1 = np.arange(9.0).reshape((3, 3))\n",
      "    >>> x2 = np.arange(3.0)\n",
      "    >>> np.add(x1, x2)\n",
      "    array([[  0.,   2.,   4.],\n",
      "           [  3.,   5.,   7.],\n",
      "           [  6.,   8.,  10.]])\n",
      "    \n",
      "    The ``+`` operator can be used as a shorthand for ``np.add`` on ndarrays.\n",
      "    \n",
      "    >>> x1 = np.arange(9.0).reshape((3, 3))\n",
      "    >>> x2 = np.arange(3.0)\n",
      "    >>> x1 + x2\n",
      "    array([[ 0.,  2.,  4.],\n",
      "           [ 3.,  5.,  7.],\n",
      "           [ 6.,  8., 10.]])\n",
      "\n"
     ]
    }
   ],
   "source": [
    "#5. How to get the documentation of the numpy add function from the command line? \n",
    "!pydoc numpy.add"
   ]
  },
  {
   "cell_type": "code",
   "execution_count": 6,
   "metadata": {},
   "outputs": [
    {
     "name": "stdout",
     "output_type": "stream",
     "text": [
      "[0. 0. 0. 0. 1. 0. 0. 0. 0. 0.]\n"
     ]
    }
   ],
   "source": [
    "#6. Create a null vector of size 10 but the fifth value which is 1 \n",
    "null_vector = np.zeros(10)\n",
    "null_vector[4] = 1\n",
    "print(null_vector)"
   ]
  },
  {
   "cell_type": "code",
   "execution_count": 7,
   "metadata": {},
   "outputs": [
    {
     "name": "stdout",
     "output_type": "stream",
     "text": [
      "[10 11 12 13 14 15 16 17 18 19 20 21 22 23 24 25 26 27 28 29 30 31 32 33\n",
      " 34 35 36 37 38 39 40 41 42 43 44 45 46 47 48 49]\n"
     ]
    }
   ],
   "source": [
    "#7. Create a vector with values ranging from 10 to 49\n",
    "vector = np.arange(10, 50)\n",
    "print(vector)"
   ]
  },
  {
   "cell_type": "code",
   "execution_count": 8,
   "metadata": {},
   "outputs": [
    {
     "name": "stdout",
     "output_type": "stream",
     "text": [
      "[49 48 47 46 45 44 43 42 41 40 39 38 37 36 35 34 33 32 31 30 29 28 27 26\n",
      " 25 24 23 22 21 20 19 18 17 16 15 14 13 12 11 10]\n"
     ]
    }
   ],
   "source": [
    "#8. Reverse a vector (first element becomes last)\n",
    "vector = np.arange(10, 50)\n",
    "reversed_vector = vector[::-1]\n",
    "print(reversed_vector)"
   ]
  },
  {
   "cell_type": "code",
   "execution_count": 9,
   "metadata": {},
   "outputs": [
    {
     "name": "stdout",
     "output_type": "stream",
     "text": [
      "[[0 1 2]\n",
      " [3 4 5]\n",
      " [6 7 8]]\n"
     ]
    }
   ],
   "source": [
    "#9. Create a 3x3 matrix with values ranging from 0 to 8\n",
    "matrix = np.arange(9).reshape(3, 3)\n",
    "print(matrix)"
   ]
  },
  {
   "cell_type": "code",
   "execution_count": 10,
   "metadata": {},
   "outputs": [
    {
     "name": "stdout",
     "output_type": "stream",
     "text": [
      "(array([0, 1, 4]),)\n"
     ]
    }
   ],
   "source": [
    "#10. Find indices of non-zero elements from [1,2,0,0,4,0]\n",
    "arr = np.array([1, 2, 0, 0, 4, 0])\n",
    "indices = np.nonzero(arr)\n",
    "print(indices)"
   ]
  },
  {
   "cell_type": "code",
   "execution_count": 11,
   "metadata": {},
   "outputs": [
    {
     "name": "stdout",
     "output_type": "stream",
     "text": [
      "[[1. 0. 0.]\n",
      " [0. 1. 0.]\n",
      " [0. 0. 1.]]\n"
     ]
    }
   ],
   "source": [
    "#11. Create a 3x3 identity matrix \n",
    "identity_matrix = np.eye(3)\n",
    "print(identity_matrix)"
   ]
  },
  {
   "cell_type": "code",
   "execution_count": 12,
   "metadata": {},
   "outputs": [
    {
     "name": "stdout",
     "output_type": "stream",
     "text": [
      "[[[0.2600987  0.83410799 0.23398376]\n",
      "  [0.55125648 0.59890766 0.51965612]\n",
      "  [0.48027555 0.27118139 0.04204741]]\n",
      "\n",
      " [[0.4500828  0.50865605 0.0611704 ]\n",
      "  [0.41381347 0.30435037 0.69220398]\n",
      "  [0.88968317 0.17236591 0.35696222]]\n",
      "\n",
      " [[0.2869861  0.12803802 0.99130389]\n",
      "  [0.12269432 0.18114666 0.2595386 ]\n",
      "  [0.52413748 0.30338938 0.8865944 ]]]\n"
     ]
    }
   ],
   "source": [
    "#12. Create a 3x3x3 array with random values\n",
    "array = np.random.rand(3, 3, 3)\n",
    "print(array)"
   ]
  },
  {
   "cell_type": "code",
   "execution_count": 13,
   "metadata": {},
   "outputs": [
    {
     "name": "stdout",
     "output_type": "stream",
     "text": [
      "Array:\n",
      "[[0.41451315 0.54290999 0.37307455 0.53308628 0.09487199 0.67481332\n",
      "  0.33443012 0.63289198 0.87093341 0.3870597 ]\n",
      " [0.06228667 0.44371697 0.97273596 0.20966109 0.16804364 0.99120028\n",
      "  0.74041621 0.28317024 0.56588234 0.37001388]\n",
      " [0.90901152 0.96814478 0.17761525 0.33965337 0.15215771 0.47991601\n",
      "  0.17848393 0.94535701 0.40353653 0.4493874 ]\n",
      " [0.6184716  0.44564123 0.7873942  0.65556251 0.83406042 0.42720224\n",
      "  0.19488828 0.57052051 0.44490083 0.73066899]\n",
      " [0.63279932 0.50826095 0.28106473 0.99013059 0.41029828 0.93172506\n",
      "  0.22212965 0.47172461 0.36692025 0.91029118]\n",
      " [0.07469321 0.09446058 0.18994322 0.85947318 0.49476201 0.99255602\n",
      "  0.95275159 0.57180137 0.78280012 0.02654144]\n",
      " [0.64934706 0.27318481 0.27862846 0.2914218  0.96415527 0.27932463\n",
      "  0.17767134 0.29066899 0.27777503 0.41910207]\n",
      " [0.76684034 0.61965938 0.52748414 0.05410785 0.25349588 0.67438196\n",
      "  0.51439755 0.32643701 0.00874214 0.8591927 ]\n",
      " [0.55121091 0.49494893 0.83328094 0.16050212 0.14488034 0.17314592\n",
      "  0.20715895 0.05099447 0.32511095 0.87456404]\n",
      " [0.69397106 0.33487835 0.56282042 0.70294069 0.9009371  0.17449776\n",
      "  0.99524812 0.50848441 0.3500893  0.62593189]]\n",
      "Minimum value: 0.008742139387671655\n",
      "Maximum value: 0.9952481155012481\n"
     ]
    }
   ],
   "source": [
    "#13. Create a 10x10 array with random values and find the minimum and maximum values\n",
    "array = np.random.rand(10, 10)\n",
    "print(\"Array:\")\n",
    "print(array)\n",
    "\n",
    "minimum_value = np.min(array)\n",
    "maximum_value = np.max(array)\n",
    "\n",
    "print(\"Minimum value:\", minimum_value)\n",
    "print(\"Maximum value:\", maximum_value)"
   ]
  },
  {
   "cell_type": "code",
   "execution_count": 14,
   "metadata": {},
   "outputs": [
    {
     "name": "stdout",
     "output_type": "stream",
     "text": [
      "Vector:\n",
      "[0.99140533 0.83746733 0.74974032 0.62058356 0.23994602 0.04951422\n",
      " 0.62882424 0.14367586 0.87358273 0.65794231 0.90837981 0.6877444\n",
      " 0.6451069  0.44861688 0.56403324 0.91032287 0.20596561 0.32994483\n",
      " 0.9193239  0.7221111  0.59529393 0.62044426 0.85953534 0.26212058\n",
      " 0.37007704 0.86225528 0.6399661  0.73814587 0.38174405 0.19021849]\n",
      "Mean value: 0.5884677459563024\n"
     ]
    }
   ],
   "source": [
    "#14. Create a random vector of size 30 and find the mean value\n",
    "import numpy as np\n",
    "\n",
    "vector = np.random.rand(30)\n",
    "print(\"Vector:\")\n",
    "print(vector)\n",
    "\n",
    "mean_value = np.mean(vector)\n",
    "print(\"Mean value:\", mean_value)"
   ]
  },
  {
   "cell_type": "code",
   "execution_count": 15,
   "metadata": {},
   "outputs": [
    {
     "name": "stdout",
     "output_type": "stream",
     "text": [
      "[[1. 1. 1. 1. 1.]\n",
      " [1. 0. 0. 0. 1.]\n",
      " [1. 0. 0. 0. 1.]\n",
      " [1. 0. 0. 0. 1.]\n",
      " [1. 1. 1. 1. 1.]]\n"
     ]
    }
   ],
   "source": [
    "#15. Create a 2d array with 1 on the border and 0 inside\n",
    "rows = 5\n",
    "cols = 5\n",
    "\n",
    "array = np.zeros((rows, cols))\n",
    "array[0, :] = 1  # Top row\n",
    "array[-1, :] = 1  # Bottom row\n",
    "array[:, 0] = 1  # Left column\n",
    "array[:, -1] = 1  # Right column\n",
    "\n",
    "print(array)"
   ]
  },
  {
   "cell_type": "code",
   "execution_count": 16,
   "metadata": {},
   "outputs": [
    {
     "name": "stdout",
     "output_type": "stream",
     "text": [
      "Existing Array:\n",
      "[[1 2 3]\n",
      " [4 5 6]\n",
      " [7 8 9]]\n",
      "\n",
      "Padded Array:\n",
      "[[0 0 0 0 0]\n",
      " [0 1 2 3 0]\n",
      " [0 4 5 6 0]\n",
      " [0 7 8 9 0]\n",
      " [0 0 0 0 0]]\n"
     ]
    }
   ],
   "source": [
    "#16. How to add a border (filled with 0's) around an existing array?\n",
    "existing_array = np.array([[1, 2, 3],\n",
    "                           [4, 5, 6],\n",
    "                           [7, 8, 9]])\n",
    "\n",
    "border_width = 1\n",
    "\n",
    "padded_array = np.pad(existing_array, pad_width=border_width, mode='constant')\n",
    "\n",
    "print(\"Existing Array:\")\n",
    "print(existing_array)\n",
    "\n",
    "print(\"\\nPadded Array:\")\n",
    "print(padded_array)"
   ]
  },
  {
   "cell_type": "code",
   "execution_count": 17,
   "metadata": {},
   "outputs": [
    {
     "data": {
      "text/plain": [
       "False"
      ]
     },
     "execution_count": 17,
     "metadata": {},
     "output_type": "execute_result"
    }
   ],
   "source": [
    "#17. What is the result of the following expression? \n",
    "0 * np.nan\n",
    "np.nan == np.nan\n",
    "np.inf > np.nan\n",
    "np.nan - np.nan\n",
    "np.nan in set([np.nan])\n",
    "0.3 == 3 * 0.1\n"
   ]
  },
  {
   "cell_type": "code",
   "execution_count": 18,
   "metadata": {},
   "outputs": [
    {
     "name": "stdout",
     "output_type": "stream",
     "text": [
      "[[0. 0. 0. 0. 0.]\n",
      " [1. 0. 0. 0. 0.]\n",
      " [0. 2. 0. 0. 0.]\n",
      " [0. 0. 3. 0. 0.]\n",
      " [0. 0. 0. 4. 0.]]\n"
     ]
    }
   ],
   "source": [
    "#18. Create a 5x5 matrix with values 1,2,3,4 just below the diagonal\n",
    "matrix = np.zeros((5, 5))\n",
    "diagonal_values = [1, 2, 3, 4]\n",
    "\n",
    "# Assign values just below the diagonal\n",
    "np.fill_diagonal(matrix[1:], diagonal_values)\n",
    "\n",
    "print(matrix)"
   ]
  },
  {
   "cell_type": "code",
   "execution_count": 19,
   "metadata": {},
   "outputs": [
    {
     "name": "stdout",
     "output_type": "stream",
     "text": [
      "[['★' '' '★' '' '★' '' '★' '']\n",
      " ['' '★' '' '★' '' '★' '' '★']\n",
      " ['★' '' '★' '' '★' '' '★' '']\n",
      " ['' '★' '' '★' '' '★' '' '★']\n",
      " ['★' '' '★' '' '★' '' '★' '']\n",
      " ['' '★' '' '★' '' '★' '' '★']\n",
      " ['★' '' '★' '' '★' '' '★' '']\n",
      " ['' '★' '' '★' '' '★' '' '★']]\n"
     ]
    }
   ],
   "source": [
    "#19. Create a 8x8 matrix and fill it with a checkerboard pattern\n",
    "matrix = np.zeros((8, 8), dtype=str)\n",
    "matrix[::2, ::2] = \"★\"  # Set stars in even rows and even columns\n",
    "matrix[1::2, 1::2] = \"★\"  # Set stars in odd rows and odd columns\n",
    "print(matrix)"
   ]
  },
  {
   "cell_type": "code",
   "execution_count": 20,
   "metadata": {},
   "outputs": [
    {
     "name": "stdout",
     "output_type": "stream",
     "text": [
      "Index (x, y, z) of the 100th element: (1, 5, 4)\n"
     ]
    }
   ],
   "source": [
    "#20. Consider a (6,7,8) shape array, what is the index (x,y,z) of the 100th element?\n",
    "\n",
    "array_shape = (6, 7, 8)\n",
    "total_elements = np.prod(array_shape)  # Compute the total number of elements in the array\n",
    "element_index = 100\n",
    "\n",
    "# Check if the element index is within the valid range\n",
    "if element_index >= total_elements:\n",
    "    print(\"Element index is out of range for the given array shape.\")\n",
    "else:\n",
    "    # Compute the index (x, y, z) of the element\n",
    "    indices = np.unravel_index(element_index, array_shape)\n",
    "    print(\"Index (x, y, z) of the 100th element:\", indices)"
   ]
  },
  {
   "cell_type": "code",
   "execution_count": 21,
   "metadata": {},
   "outputs": [
    {
     "name": "stdout",
     "output_type": "stream",
     "text": [
      "[[0 1 0 1 0 1 0 1]\n",
      " [1 0 1 0 1 0 1 0]\n",
      " [0 1 0 1 0 1 0 1]\n",
      " [1 0 1 0 1 0 1 0]\n",
      " [0 1 0 1 0 1 0 1]\n",
      " [1 0 1 0 1 0 1 0]\n",
      " [0 1 0 1 0 1 0 1]\n",
      " [1 0 1 0 1 0 1 0]]\n"
     ]
    }
   ],
   "source": [
    "#21. Create a checkerboard 8x8 matrix using the tile function\n",
    "\n",
    "base_pattern = np.array([[0, 1], [1, 0]])\n",
    "checkerboard = np.tile(base_pattern, (4, 4))\n",
    "\n",
    "print(checkerboard)"
   ]
  },
  {
   "cell_type": "code",
   "execution_count": 22,
   "metadata": {},
   "outputs": [
    {
     "name": "stdout",
     "output_type": "stream",
     "text": [
      "Random Matrix:\n",
      "[[0.91065833 0.87119061 0.33501859 0.5609323  0.85660681]\n",
      " [0.12078236 0.23657566 0.70507443 0.62242966 0.57707361]\n",
      " [0.74027321 0.01175093 0.12173513 0.73794186 0.92750857]\n",
      " [0.10396028 0.27483352 0.38547935 0.59114143 0.72530677]\n",
      " [0.33125858 0.57572338 0.44295693 0.74245023 0.23624412]]\n",
      "\n",
      "Normalized Matrix:\n",
      "2.8913212316725634\n"
     ]
    }
   ],
   "source": [
    "#22. Normalize a 5x5 random matrix\n",
    "random_matrix = np.random.random((5, 5))\n",
    "normalized_matrix = np.linalg.norm(random_matrix)\n",
    "\n",
    "print(\"Random Matrix:\")\n",
    "print(random_matrix)\n",
    "\n",
    "print(\"\\nNormalized Matrix:\")\n",
    "print(normalized_matrix)"
   ]
  },
  {
   "cell_type": "code",
   "execution_count": 23,
   "metadata": {},
   "outputs": [
    {
     "name": "stdout",
     "output_type": "stream",
     "text": [
      "[(255,   0,   0, 255) (  0, 255,   0, 255) (  0,   0, 255, 255)]\n"
     ]
    }
   ],
   "source": [
    "#23. Create a custom dtype that describes a color as four unsigned bytes (RGBA)\n",
    "# Define the custom dtype\n",
    "color_dtype = np.dtype([('R', np.uint8), ('G', np.uint8), ('B', np.uint8), ('A', np.uint8)])\n",
    "# Create a color array using the custom dtype\n",
    "color_array = np.array([(255, 0, 0, 255), (0, 255, 0, 255), (0, 0, 255, 255)], dtype=color_dtype)\n",
    "print(color_array)"
   ]
  },
  {
   "cell_type": "code",
   "execution_count": 24,
   "metadata": {},
   "outputs": [
    {
     "name": "stdout",
     "output_type": "stream",
     "text": [
      "Matrix 1:\n",
      "[[0.70735215 0.26115123 0.09123711]\n",
      " [0.64200547 0.95742437 0.58980734]\n",
      " [0.66260752 0.84979393 0.6316926 ]\n",
      " [0.64477446 0.30126259 0.87950851]\n",
      " [0.7587106  0.80031164 0.3164532 ]]\n",
      "\n",
      "Matrix 2:\n",
      "[[0.38638104 0.68565013]\n",
      " [0.95350493 0.40472989]\n",
      " [0.85074252 0.07230773]]\n",
      "\n",
      "Matrix Product:\n",
      "[[0.59993573 0.59728895]\n",
      " [1.66274177 0.87033703]\n",
      " [1.60370944 0.8439302 ]\n",
      " [1.28461928 0.62761494]\n",
      " [1.32547267 0.86700208]]\n"
     ]
    }
   ],
   "source": [
    "#24. Multiply a 5x3 matrix by a 3x2 matrix (real matrix product) \n",
    "matrix1 = np.random.random((5, 3))\n",
    "matrix2 = np.random.random((3, 2))\n",
    "\n",
    "product = np.dot(matrix1, matrix2)\n",
    "\n",
    "print(\"Matrix 1:\")\n",
    "print(matrix1)\n",
    "\n",
    "print(\"\\nMatrix 2:\")\n",
    "print(matrix2)\n",
    "\n",
    "print(\"\\nMatrix Product:\")\n",
    "print(product)"
   ]
  },
  {
   "cell_type": "code",
   "execution_count": 25,
   "metadata": {},
   "outputs": [
    {
     "name": "stdout",
     "output_type": "stream",
     "text": [
      "[ 1 -5 -4  9 -7  2 -6 -3 -8]\n"
     ]
    }
   ],
   "source": [
    "#25. Given a 1D array, negate all elements which are between 3 and 8, in place.\n",
    "\n",
    "arr = np.array([1, 5, 4, 9, 7, 2, 6, 3, 8])\n",
    "\n",
    "# Find the indices of elements between 3 and 8\n",
    "indices = np.where((arr >= 3) & (arr <= 8))\n",
    "\n",
    "# Negate the elements at the found indices\n",
    "arr[indices] = -arr[indices]\n",
    "\n",
    "print(arr)"
   ]
  },
  {
   "cell_type": "code",
   "execution_count": 26,
   "metadata": {},
   "outputs": [
    {
     "name": "stdout",
     "output_type": "stream",
     "text": [
      "9\n",
      "10\n"
     ]
    }
   ],
   "source": [
    "#26. What is the output of the following script? \n",
    "print(sum(range(5),-1))\n",
    "from numpy import *\n",
    "print(sum(range(5),-1))"
   ]
  },
  {
   "cell_type": "code",
   "execution_count": 27,
   "metadata": {},
   "outputs": [
    {
     "data": {
      "text/plain": [
       "'Z**Z\\n2 << Z >> 2\\nZ <- Z\\n1j*Z\\nZ/1/1\\nZ<Z>Z '"
      ]
     },
     "execution_count": 27,
     "metadata": {},
     "output_type": "execute_result"
    }
   ],
   "source": [
    "#27. Consider an integer vector Z, which of these expressions are legal?\n",
    "\"\"\"Z**Z\n",
    "2 << Z >> 2\n",
    "Z <- Z\n",
    "1j*Z\n",
    "Z/1/1\n",
    "Z<Z>Z \"\"\""
   ]
  },
  {
   "cell_type": "code",
   "execution_count": 28,
   "metadata": {},
   "outputs": [
    {
     "name": "stderr",
     "output_type": "stream",
     "text": [
      "/tmp/ipykernel_35512/1713965767.py:2: RuntimeWarning: invalid value encountered in divide\n",
      "  np.array(0) / np.array(0)\n",
      "/tmp/ipykernel_35512/1713965767.py:3: RuntimeWarning: divide by zero encountered in floor_divide\n",
      "  np.array(0) // np.array(0)\n",
      "/tmp/ipykernel_35512/1713965767.py:4: RuntimeWarning: invalid value encountered in cast\n",
      "  np.array([np.nan]).astype(int).astype(float)\n"
     ]
    },
    {
     "data": {
      "text/plain": [
       "array([-9.22337204e+18])"
      ]
     },
     "execution_count": 28,
     "metadata": {},
     "output_type": "execute_result"
    }
   ],
   "source": [
    "#28. What are the result of the following expressions?\n",
    "np.array(0) / np.array(0)\n",
    "np.array(0) // np.array(0)\n",
    "np.array([np.nan]).astype(int).astype(float)"
   ]
  },
  {
   "cell_type": "code",
   "execution_count": 29,
   "metadata": {},
   "outputs": [
    {
     "name": "stdout",
     "output_type": "stream",
     "text": [
      "[-2.  3. -5.  6. -1.]\n"
     ]
    }
   ],
   "source": [
    "#29. How to round away from zero a float array ?\n",
    "\n",
    "arr = np.array([-1.5, 2.3, -4.7, 5.9, -0.1])\n",
    "\n",
    "rounded_arr = np.ceil(np.abs(arr)) * np.copysign(1, arr)\n",
    "\n",
    "print(rounded_arr)"
   ]
  },
  {
   "cell_type": "code",
   "execution_count": 30,
   "metadata": {},
   "outputs": [
    {
     "name": "stdout",
     "output_type": "stream",
     "text": [
      "[4 5]\n"
     ]
    }
   ],
   "source": [
    "#30. How to find common values between two arrays?\n",
    "\n",
    "array1 = np.array([1, 2, 3, 4, 5])\n",
    "array2 = np.array([4, 5, 6, 7, 8])\n",
    "\n",
    "common_values = np.intersect1d(array1, array2)\n",
    "\n",
    "print(common_values)"
   ]
  },
  {
   "cell_type": "code",
   "execution_count": 31,
   "metadata": {},
   "outputs": [],
   "source": [
    "#31. How to ignore all numpy warnings (not recommended)? \n",
    "\n",
    "import numpy as np\n",
    "import warnings\n",
    "\n",
    "# Ignore all NumPy warnings\n",
    "warnings.filterwarnings('ignore', category=FutureWarning)\n",
    "\n",
    "# Reset warnings to default behavior\n",
    "warnings.resetwarnings()"
   ]
  },
  {
   "cell_type": "code",
   "execution_count": 32,
   "metadata": {},
   "outputs": [
    {
     "name": "stderr",
     "output_type": "stream",
     "text": [
      "/tmp/ipykernel_35512/652847447.py:2: RuntimeWarning: invalid value encountered in sqrt\n",
      "  np.sqrt(-1) == np.emath.sqrt(-1)\n"
     ]
    },
    {
     "data": {
      "text/plain": [
       "False"
      ]
     },
     "execution_count": 32,
     "metadata": {},
     "output_type": "execute_result"
    }
   ],
   "source": [
    "#32. Is the following expressions true? \n",
    "np.sqrt(-1) == np.emath.sqrt(-1)"
   ]
  },
  {
   "cell_type": "code",
   "execution_count": 35,
   "metadata": {},
   "outputs": [
    {
     "name": "stdout",
     "output_type": "stream",
     "text": [
      "Yesterday: 2024-02-19\n",
      "Today: 2024-02-20\n",
      "Tomorrow: 2024-02-21\n"
     ]
    }
   ],
   "source": [
    "#33. How to get the dates of yesterday, today and tomorrow?\n",
    "from datetime import datetime, timedelta\n",
    "\n",
    "# Get today's date\n",
    "today = datetime.now().date()\n",
    "\n",
    "# Get yesterday's date\n",
    "yesterday = today - timedelta(days=1)\n",
    "\n",
    "# Get tomorrow's date\n",
    "tomorrow = today + timedelta(days=1)\n",
    "\n",
    "# Print the dates\n",
    "print(\"Yesterday:\", yesterday)\n",
    "print(\"Today:\", today)\n",
    "print(\"Tomorrow:\", tomorrow)"
   ]
  },
  {
   "cell_type": "code",
   "execution_count": 37,
   "metadata": {},
   "outputs": [
    {
     "name": "stdout",
     "output_type": "stream",
     "text": [
      "2016-07-01\n",
      "2016-07-02\n",
      "2016-07-03\n",
      "2016-07-04\n",
      "2016-07-05\n",
      "2016-07-06\n",
      "2016-07-07\n",
      "2016-07-08\n",
      "2016-07-09\n",
      "2016-07-10\n",
      "2016-07-11\n",
      "2016-07-12\n",
      "2016-07-13\n",
      "2016-07-14\n",
      "2016-07-15\n",
      "2016-07-16\n",
      "2016-07-17\n",
      "2016-07-18\n",
      "2016-07-19\n",
      "2016-07-20\n",
      "2016-07-21\n",
      "2016-07-22\n",
      "2016-07-23\n",
      "2016-07-24\n",
      "2016-07-25\n",
      "2016-07-26\n",
      "2016-07-27\n",
      "2016-07-28\n",
      "2016-07-29\n",
      "2016-07-30\n",
      "2016-07-31\n"
     ]
    }
   ],
   "source": [
    "#34. How to get all the dates corresponding to the month of July 2016? \n",
    "from datetime import datetime, timedelta\n",
    "\n",
    "def get_dates_in_month(year, month):\n",
    "    start_date = datetime(year, month, 1).date()\n",
    "    next_month = start_date.replace(day=28) + timedelta(days=4)  # Add 4 days to go beyond end of month\n",
    "    end_date = next_month - timedelta(days=next_month.day)\n",
    "\n",
    "    dates_in_month = []\n",
    "    current_date = start_date\n",
    "    while current_date <= end_date:\n",
    "        dates_in_month.append(current_date)\n",
    "        current_date += timedelta(days=1)\n",
    "\n",
    "    return dates_in_month\n",
    "\n",
    "# Get all the dates in July 2016\n",
    "dates_july_2016 = get_dates_in_month(2016, 7)\n",
    "\n",
    "# Print the dates\n",
    "for date in dates_july_2016:\n",
    "    print(date)"
   ]
  },
  {
   "cell_type": "code",
   "execution_count": 38,
   "metadata": {},
   "outputs": [
    {
     "name": "stdout",
     "output_type": "stream",
     "text": [
      "[-2.5 -3.5 -4.5]\n"
     ]
    }
   ],
   "source": [
    "#35. How to compute ((A+B)*(-A/2)) in place (without copy)? (★★☆)\n",
    "\n",
    "\n",
    "A = np.array([1, 2, 3], dtype=float)\n",
    "B = np.array([4, 5, 6])\n",
    "\n",
    "# Compute ((A+B)*(-A/2)) in place\n",
    "np.add(A, B, out=A)\n",
    "np.negative(A, out=A)\n",
    "np.divide(A, 2, out=A)\n",
    "\n",
    "# Print the result\n",
    "print(A)"
   ]
  },
  {
   "cell_type": "code",
   "execution_count": 39,
   "metadata": {},
   "outputs": [
    {
     "name": "stdout",
     "output_type": "stream",
     "text": [
      "Method 1 (np.floor()): [7. 0. 8. 5. 0.]\n",
      "Method 2 (np.trunc()): [7. 0. 8. 5. 0.]\n",
      "Method 3 (np.ceil() and subtraction): [7. 0. 8. 5. 0.]\n",
      "Method 4 (np.astype()): [7 0 8 5 0]\n"
     ]
    }
   ],
   "source": [
    "#36. Extract the integer part of a random array of positive numbers using 4 different methods\n",
    "# Generate a random array of positive numbers\n",
    "arr = np.random.rand(5) * 10  # Adjust the size of the array as needed\n",
    "\n",
    "# Method 1: Using np.floor()\n",
    "int_part_1 = np.floor(arr)\n",
    "print(\"Method 1 (np.floor()):\", int_part_1)\n",
    "\n",
    "# Method 2: Using np.trunc()\n",
    "int_part_2 = np.trunc(arr)\n",
    "print(\"Method 2 (np.trunc()):\", int_part_2)\n",
    "\n",
    "# Method 3: Using np.ceil() and subtraction\n",
    "int_part_3 = arr - (arr % 1)\n",
    "print(\"Method 3 (np.ceil() and subtraction):\", int_part_3)\n",
    "\n",
    "# Method 4: Using np.astype()\n",
    "int_part_4 = arr.astype(int)\n",
    "print(\"Method 4 (np.astype()):\", int_part_4)"
   ]
  },
  {
   "cell_type": "code",
   "execution_count": 40,
   "metadata": {},
   "outputs": [
    {
     "name": "stdout",
     "output_type": "stream",
     "text": [
      "[[0 1 2 3 4]\n",
      " [0 1 2 3 4]\n",
      " [0 1 2 3 4]\n",
      " [0 1 2 3 4]\n",
      " [0 1 2 3 4]]\n"
     ]
    }
   ],
   "source": [
    "#37. Create a 5x5 matrix with row values ranging from 0 to 4 \n",
    "\n",
    "# Create a 1-dimensional array ranging from 0 to 4\n",
    "row_values = np.arange(5)\n",
    "\n",
    "# Create a 5x5 matrix by broadcasting the row values\n",
    "matrix = np.tile(row_values, (5, 1))\n",
    "\n",
    "# Print the matrix\n",
    "print(matrix)"
   ]
  },
  {
   "cell_type": "code",
   "execution_count": 41,
   "metadata": {},
   "outputs": [
    {
     "name": "stdout",
     "output_type": "stream",
     "text": [
      "[0 1 2 3 4 5 6 7 8 9]\n"
     ]
    }
   ],
   "source": [
    "#38. Consider a generator function that generates 10 integers and use it to build an array \n",
    "def integer_generator():\n",
    "    for i in range(10):\n",
    "        yield i\n",
    "\n",
    "# Create an array using the generator function\n",
    "array = np.fromiter(integer_generator(), dtype=int)\n",
    "\n",
    "# Print the array\n",
    "print(array)"
   ]
  },
  {
   "cell_type": "code",
   "execution_count": 42,
   "metadata": {},
   "outputs": [
    {
     "name": "stdout",
     "output_type": "stream",
     "text": [
      "[0.1 0.2 0.3 0.4 0.5 0.6 0.7 0.8 0.9]\n"
     ]
    }
   ],
   "source": [
    "#39. Create a vector of size 10 with values ranging from 0 to 1, both excluded \n",
    "vector = np.linspace(0, 1, 10, endpoint=False)[1:]\n",
    "\n",
    "# Print the vector\n",
    "print(vector)"
   ]
  },
  {
   "cell_type": "code",
   "execution_count": 43,
   "metadata": {},
   "outputs": [
    {
     "name": "stdout",
     "output_type": "stream",
     "text": [
      "[0.10720439 0.27329197 0.35781046 0.35957497 0.5253771  0.55873516\n",
      " 0.66370676 0.78172905 0.82115779 0.87592437]\n"
     ]
    }
   ],
   "source": [
    "#40. Create a random vector of size 10 and sort it\n",
    "\n",
    "# Create a random vector of size 10\n",
    "vector = np.random.rand(10)\n",
    "\n",
    "# Sort the vector\n",
    "sorted_vector = np.sort(vector)\n",
    "\n",
    "# Print the sorted vector\n",
    "print(sorted_vector)"
   ]
  },
  {
   "cell_type": "code",
   "execution_count": 44,
   "metadata": {},
   "outputs": [],
   "source": [
    "#41. How to sum a small array faster than np.sum?\n",
    "import math\n",
    "arr = [1, 2, 3, 4, 5]\n",
    "total = sum(arr)\n",
    "\n",
    "\n",
    "arr = [1.1, 2.2, 3.3, 4.4, 5.5]\n",
    "total = math.fsum(arr)"
   ]
  },
  {
   "cell_type": "code",
   "execution_count": 45,
   "metadata": {},
   "outputs": [
    {
     "name": "stdout",
     "output_type": "stream",
     "text": [
      "False\n"
     ]
    }
   ],
   "source": [
    "#42. Consider two random array A and B, check if they are equal\n",
    "# Generate two random arrays A and B\n",
    "A = np.random.rand(5)\n",
    "B = np.random.rand(5)\n",
    "\n",
    "# Check if A and B are equal\n",
    "are_equal = np.array_equal(A, B)\n",
    "\n",
    "# Print the result\n",
    "print(are_equal)"
   ]
  },
  {
   "cell_type": "code",
   "execution_count": 46,
   "metadata": {},
   "outputs": [
    {
     "data": {
      "text/plain": [
       "'\\n#43. Make an array immutable (read-only) (★★☆)\\nmutable_array = np.array([1, 2, 3, 4, 5])\\n\\n# Make the array immutable\\nimmutable_array = mutable_array.copy()\\nimmutable_array.flags.writeable = False\\n\\n# Try to modify the immutable array (raises an error)\\nimmutable_array[0] = 10\\n'"
      ]
     },
     "execution_count": 46,
     "metadata": {},
     "output_type": "execute_result"
    }
   ],
   "source": [
    "\"\"\"\n",
    "#43. Make an array immutable (read-only) (★★☆)\n",
    "mutable_array = np.array([1, 2, 3, 4, 5])\n",
    "\n",
    "# Make the array immutable\n",
    "immutable_array = mutable_array.copy()\n",
    "immutable_array.flags.writeable = False\n",
    "\n",
    "# Try to modify the immutable array (raises an error)\n",
    "immutable_array[0] = 10\n",
    "\"\"\""
   ]
  },
  {
   "cell_type": "code",
   "execution_count": 47,
   "metadata": {},
   "outputs": [
    {
     "name": "stdout",
     "output_type": "stream",
     "text": [
      "[[1.01560018 1.21692744]\n",
      " [0.5558618  0.96094967]\n",
      " [1.12441607 0.85746461]\n",
      " [0.48398954 1.03823521]\n",
      " [1.1070904  0.96039147]\n",
      " [0.95631293 0.49186018]\n",
      " [0.99398972 0.00963752]\n",
      " [0.7728305  1.47972449]\n",
      " [0.58290941 0.18894245]\n",
      " [0.93139619 0.01028384]]\n"
     ]
    }
   ],
   "source": [
    "#44. Consider a random 10x2 matrix representing cartesian coordinates, convert them to polar coordinates\n",
    "\n",
    "# Create a random 10x2 matrix representing Cartesian coordinates\n",
    "cartesian_coords = np.random.rand(10, 2)\n",
    "\n",
    "# Convert Cartesian coordinates to polar coordinates\n",
    "x = cartesian_coords[:, 0]\n",
    "y = cartesian_coords[:, 1]\n",
    "r = np.hypot(x, y)\n",
    "theta = np.arctan2(y, x)\n",
    "\n",
    "# Stack r and theta to form a 10x2 matrix representing polar coordinates\n",
    "polar_coords = np.column_stack((r, theta))\n",
    "\n",
    "# Print the polar coordinates\n",
    "print(polar_coords)"
   ]
  },
  {
   "cell_type": "code",
   "execution_count": 49,
   "metadata": {},
   "outputs": [
    {
     "name": "stdout",
     "output_type": "stream",
     "text": [
      "[0.         0.00084097 0.42951948 0.18616711 0.79066871 0.70809965\n",
      " 0.83279162 0.39442434 0.47451003 0.56673062]\n"
     ]
    }
   ],
   "source": [
    "#45. Create random vector of size 10 and replace the maximum value by 0\n",
    "# Create a random vector of size 10\n",
    "vector = np.random.rand(10)\n",
    "\n",
    "# Find the maximum value in the vector\n",
    "max_value = np.max(vector)\n",
    "\n",
    "# Replace the maximum value with 0\n",
    "vector[vector == max_value] = 0\n",
    "\n",
    "# Print the updated vector\n",
    "print(vector)"
   ]
  },
  {
   "cell_type": "code",
   "execution_count": 50,
   "metadata": {},
   "outputs": [
    {
     "name": "stdout",
     "output_type": "stream",
     "text": [
      "[(0.  , 0.  ) (0.25, 0.  ) (0.5 , 0.  ) (0.75, 0.  ) (1.  , 0.  )\n",
      " (0.  , 0.25) (0.25, 0.25) (0.5 , 0.25) (0.75, 0.25) (1.  , 0.25)\n",
      " (0.  , 0.5 ) (0.25, 0.5 ) (0.5 , 0.5 ) (0.75, 0.5 ) (1.  , 0.5 )\n",
      " (0.  , 0.75) (0.25, 0.75) (0.5 , 0.75) (0.75, 0.75) (1.  , 0.75)\n",
      " (0.  , 1.  ) (0.25, 1.  ) (0.5 , 1.  ) (0.75, 1.  ) (1.  , 1.  )]\n"
     ]
    }
   ],
   "source": [
    "#46. Create a structured array with `x` and `y` coordinates covering the [0,1]x[0,1] area\n",
    "# Define the number of points in each dimension\n",
    "num_points = 5\n",
    "\n",
    "# Create a grid of x and y coordinates\n",
    "x_coords = np.linspace(0, 1, num_points)\n",
    "y_coords = np.linspace(0, 1, num_points)\n",
    "xx, yy = np.meshgrid(x_coords, y_coords)\n",
    "\n",
    "# Create a structured array\n",
    "structured_array = np.zeros((num_points*num_points,), dtype=[('x', float), ('y', float)])\n",
    "structured_array['x'] = xx.flatten()\n",
    "structured_array['y'] = yy.flatten()\n",
    "\n",
    "# Print the structured array\n",
    "print(structured_array)"
   ]
  },
  {
   "cell_type": "code",
   "execution_count": 51,
   "metadata": {},
   "outputs": [
    {
     "name": "stdout",
     "output_type": "stream",
     "text": [
      "[[-0.33333333 -0.25       -0.2       ]\n",
      " [-0.5        -0.33333333 -0.25      ]\n",
      " [-1.         -0.5        -0.33333333]]\n"
     ]
    }
   ],
   "source": [
    "#47. Given two arrays, X and Y, construct the Cauchy matrix C (Cij =1/(xi - yj))\n",
    "\n",
    "# Example arrays X and Y\n",
    "X = np.array([1, 2, 3])\n",
    "Y = np.array([4, 5, 6])\n",
    "\n",
    "# Compute the Cauchy matrix\n",
    "C = 1 / (X[:, np.newaxis] - Y)\n",
    "\n",
    "# Print the Cauchy matrix\n",
    "print(C)"
   ]
  },
  {
   "cell_type": "code",
   "execution_count": 52,
   "metadata": {},
   "outputs": [
    {
     "name": "stdout",
     "output_type": "stream",
     "text": [
      "int8: min=-128, max=127\n",
      "int16: min=-32768, max=32767\n",
      "int32: min=-2147483648, max=2147483647\n",
      "int64: min=-9223372036854775808, max=9223372036854775807\n",
      "uint8: min=0, max=255\n",
      "uint16: min=0, max=65535\n",
      "uint32: min=0, max=4294967295\n",
      "uint64: min=0, max=18446744073709551615\n",
      "float16: min=-65504.0, max=65504.0\n",
      "float32: min=-3.4028234663852886e+38, max=3.4028234663852886e+38\n",
      "float64: min=-1.7976931348623157e+308, max=1.7976931348623157e+308\n"
     ]
    }
   ],
   "source": [
    "#48. Print the minimum and maximum representable value for each numpy scalar type\n",
    "# Integer scalar types\n",
    "integer_types = [np.int8, np.int16, np.int32, np.int64,\n",
    "                 np.uint8, np.uint16, np.uint32, np.uint64]\n",
    "\n",
    "for int_type in integer_types:\n",
    "    info = np.iinfo(int_type)\n",
    "    print(f\"{int_type.__name__}: min={info.min}, max={info.max}\")\n",
    "\n",
    "# Floating-point scalar types\n",
    "float_types = [np.float16, np.float32, np.float64]\n",
    "\n",
    "for float_type in float_types:\n",
    "    info = np.finfo(float_type)\n",
    "    print(f\"{float_type.__name__}: min={info.min}, max={info.max}\")"
   ]
  },
  {
   "cell_type": "code",
   "execution_count": 53,
   "metadata": {},
   "outputs": [
    {
     "name": "stdout",
     "output_type": "stream",
     "text": [
      "[1 2 3 4 5]\n"
     ]
    }
   ],
   "source": [
    "#49. How to print all the values of an array?\n",
    "\n",
    "# Create an example array\n",
    "arr = np.array([1, 2, 3, 4, 5])\n",
    "# Print all the values of the array\n",
    "print(arr)\n"
   ]
  },
  {
   "cell_type": "code",
   "execution_count": 54,
   "metadata": {},
   "outputs": [
    {
     "name": "stdout",
     "output_type": "stream",
     "text": [
      "7\n"
     ]
    }
   ],
   "source": [
    "#50. How to find the closest value (to a given scalar) in a vector?\n",
    "# Example vector\n",
    "vector = np.array([1, 4, 7, 10])\n",
    "\n",
    "# Target scalar\n",
    "target = 6\n",
    "\n",
    "# Find the index of the closest value\n",
    "index = np.abs(vector - target).argmin()\n",
    "\n",
    "# Get the closest value\n",
    "closest_value = vector[index]\n",
    "\n",
    "# Print the closest value\n",
    "print(closest_value)"
   ]
  },
  {
   "cell_type": "code",
   "execution_count": 55,
   "metadata": {},
   "outputs": [
    {
     "name": "stdout",
     "output_type": "stream",
     "text": [
      "[((1., 2.), (255,   0,   0)) ((3., 4.), (  0, 255,   0))\n",
      " ((5., 6.), (  0,   0, 255))]\n"
     ]
    }
   ],
   "source": [
    "#51. Create a structured array representing a position (x,y) and a color (r,g,b)\n",
    "\n",
    "# Define the structured data type\n",
    "dtype = np.dtype([('position', [('x', float), ('y', float)]),\n",
    "                  ('color', [('r', int), ('g', int), ('b', int)])])\n",
    "\n",
    "# Create a structured array\n",
    "structured_array = np.array([((1.0, 2.0), (255, 0, 0)),\n",
    "                             ((3.0, 4.0), (0, 255, 0)),\n",
    "                             ((5.0, 6.0), (0, 0, 255))], dtype=dtype)\n",
    "\n",
    "# Print the structured array\n",
    "print(structured_array)"
   ]
  },
  {
   "cell_type": "code",
   "execution_count": 56,
   "metadata": {},
   "outputs": [
    {
     "name": "stdout",
     "output_type": "stream",
     "text": [
      "[[0.         0.45546445 0.58546885 ... 0.38462211 0.29131696 0.15422216]\n",
      " [0.45546445 0.         0.53728201 ... 0.32090664 0.40396387 0.51709826]\n",
      " [0.58546885 0.53728201 0.         ... 0.24367692 0.29415745 0.73581759]\n",
      " ...\n",
      " [0.38462211 0.32090664 0.24367692 ... 0.         0.13588202 0.52270807]\n",
      " [0.29131696 0.40396387 0.29415745 ... 0.13588202 0.         0.44244637]\n",
      " [0.15422216 0.51709826 0.73581759 ... 0.52270807 0.44244637 0.        ]]\n"
     ]
    }
   ],
   "source": [
    "#52. Consider a random vector with shape (100,2) representing coordinates, find point by point distances\n",
    "import numpy as np\n",
    "\n",
    "# Generate random vector with shape (100, 2)\n",
    "random_vector = np.random.rand(100, 2)\n",
    "\n",
    "# Calculate point-by-point distances\n",
    "distances = np.zeros((100, 100))  # Initialize an empty distance matrix\n",
    "\n",
    "for i in range(100):\n",
    "    for j in range(100):\n",
    "        x1, y1 = random_vector[i]  # Coordinates of point i\n",
    "        x2, y2 = random_vector[j]  # Coordinates of point j\n",
    "        distances[i, j] = np.sqrt((x2 - x1)**2 + (y2 - y1)**2)\n",
    "\n",
    "print(distances)"
   ]
  },
  {
   "cell_type": "code",
   "execution_count": 57,
   "metadata": {},
   "outputs": [
    {
     "name": "stdout",
     "output_type": "stream",
     "text": [
      "Float array: [1.5 2.7 3.3]\n",
      "Integer array: [1069547520 1076677837 1079194419]\n"
     ]
    }
   ],
   "source": [
    "#53. How to convert a float (32 bits) array into an integer (32 bits) in place?\n",
    "# Create a float array with 32-bit precision\n",
    "float_array = np.array([1.5, 2.7, 3.3], dtype=np.float32)\n",
    "print(\"Float array:\", float_array)\n",
    "\n",
    "# Convert the float array to an integer array in place\n",
    "int_array = float_array.view(np.int32)\n",
    "print(\"Integer array:\", int_array)"
   ]
  },
  {
   "cell_type": "code",
   "execution_count": 58,
   "metadata": {},
   "outputs": [
    {
     "data": {
      "text/plain": [
       "\" #54. How to read the following file? (★★☆)\\n1, 2, 3, 4, 5\\n6,  ,  , 7, 8\\n ,  , 9,10,11\\n    _summary_\\n    \\ndata = []\\n\\nwith open(filename, 'r') as file:\\n    csv_reader = csv.reader(file, delimiter=',')\\n    for row in csv_reader:\\n        stripped_row = [cell.strip() for cell in row]\\n        data.append(stripped_row)\\n\\nprint(data)\\n\\n\""
      ]
     },
     "execution_count": 58,
     "metadata": {},
     "output_type": "execute_result"
    }
   ],
   "source": [
    "\"\"\" #54. How to read the following file? (★★☆)\n",
    "1, 2, 3, 4, 5\n",
    "6,  ,  , 7, 8\n",
    " ,  , 9,10,11\n",
    "    _summary_\n",
    "    \n",
    "data = []\n",
    "\n",
    "with open(filename, 'r') as file:\n",
    "    csv_reader = csv.reader(file, delimiter=',')\n",
    "    for row in csv_reader:\n",
    "        stripped_row = [cell.strip() for cell in row]\n",
    "        data.append(stripped_row)\n",
    "\n",
    "print(data)\n",
    "\n",
    "\"\"\""
   ]
  },
  {
   "cell_type": "code",
   "execution_count": 59,
   "metadata": {},
   "outputs": [
    {
     "name": "stdout",
     "output_type": "stream",
     "text": [
      "(0, 0) 1\n",
      "(0, 1) 2\n",
      "(0, 2) 3\n",
      "(1, 0) 4\n",
      "(1, 1) 5\n",
      "(1, 2) 6\n"
     ]
    }
   ],
   "source": [
    "#55. What is the equivalent of enumerate for numpy arrays?\n",
    "## The equivalent of enumerate for NumPy arrays is the np.ndenumerate function.\n",
    "arr = np.array([[1, 2, 3], [4, 5, 6]])\n",
    "\n",
    "for index, value in np.ndenumerate(arr):\n",
    "    print(index, value)"
   ]
  },
  {
   "cell_type": "code",
   "execution_count": 60,
   "metadata": {},
   "outputs": [],
   "source": [
    "#56. Generate a generic 2D Gaussian-like array \n",
    "from scipy.stats import multivariate_normal\n",
    "\n",
    "# Define parameters for the Gaussian distribution\n",
    "mean = [0, 0]  # Mean of the distribution\n",
    "cov = [[1, 0], [0, 1]]  # Covariance matrix\n",
    "\n",
    "# Generate a 2D grid of coordinates\n",
    "x = np.linspace(-3, 3, 100)\n",
    "y = np.linspace(-3, 3, 100)\n",
    "X, Y = np.meshgrid(x, y)\n",
    "pos = np.dstack((X, Y))\n",
    "\n",
    "# Calculate the Gaussian distribution values at each coordinate\n",
    "Z = multivariate_normal.pdf(pos, mean, cov)"
   ]
  },
  {
   "cell_type": "code",
   "execution_count": 61,
   "metadata": {},
   "outputs": [
    {
     "name": "stdout",
     "output_type": "stream",
     "text": [
      "[[1. 0. 0. 0. 0.]\n",
      " [0. 0. 0. 1. 0.]\n",
      " [1. 0. 0. 0. 0.]\n",
      " [0. 1. 1. 0. 0.]\n",
      " [0. 0. 0. 0. 0.]]\n"
     ]
    }
   ],
   "source": [
    "#57. How to randomly place p elements in a 2D array?\n",
    "# Define the size of the 2D array\n",
    "rows = 5\n",
    "cols = 5\n",
    "\n",
    "# Define the number of elements to randomly place\n",
    "p = 5\n",
    "\n",
    "# Create an empty 2D array\n",
    "arr = np.zeros((rows, cols))\n",
    "\n",
    "# Generate random indices for placing the elements\n",
    "indices = np.random.choice(rows * cols, p, replace=False)\n",
    "\n",
    "# Set the randomly chosen indices to 1\n",
    "arr.flat[indices] = 1\n",
    "\n",
    "# Print the resulting array\n",
    "print(arr)"
   ]
  },
  {
   "cell_type": "code",
   "execution_count": 62,
   "metadata": {},
   "outputs": [
    {
     "name": "stdout",
     "output_type": "stream",
     "text": [
      "[[-1.  0.  1.]\n",
      " [-1.  0.  1.]\n",
      " [-1.  0.  1.]]\n"
     ]
    }
   ],
   "source": [
    "#58. Subtract the mean of each row of a matrix\n",
    "# Create a matrix\n",
    "matrix = np.array([[1, 2, 3],\n",
    "                   [4, 5, 6],\n",
    "                   [7, 8, 9]])\n",
    "\n",
    "# Subtract the mean of each row\n",
    "mean_subtracted = matrix - np.mean(matrix, axis=1, keepdims=True)\n",
    "\n",
    "# Print the result\n",
    "print(mean_subtracted)"
   ]
  },
  {
   "cell_type": "code",
   "execution_count": 63,
   "metadata": {},
   "outputs": [
    {
     "name": "stdout",
     "output_type": "stream",
     "text": [
      "[[1 4 7]\n",
      " [2 5 8]\n",
      " [3 6 9]]\n"
     ]
    }
   ],
   "source": [
    "#59. How to sort an array by the nth column?\n",
    "\n",
    "# Create an array\n",
    "arr = np.array([[1, 4, 7],\n",
    "                [2, 5, 8],\n",
    "                [3, 6, 9]])\n",
    "\n",
    "# Sort the array by the nth column (0-based indexing)\n",
    "n = 1\n",
    "sorted_arr = arr[arr[:, n].argsort()]\n",
    "\n",
    "# Print the sorted array\n",
    "print(sorted_arr)\n"
   ]
  },
  {
   "cell_type": "code",
   "execution_count": 64,
   "metadata": {},
   "outputs": [
    {
     "name": "stdout",
     "output_type": "stream",
     "text": [
      "[False False False]\n"
     ]
    }
   ],
   "source": [
    "#60. How to tell if a given 2D array has null columns?\n",
    "\n",
    "# Create a 2D array\n",
    "arr = np.array([[1, 2, 3],\n",
    "                [0, 0, 0],\n",
    "                [4, 5, 6],\n",
    "                [0, 0, 0]])\n",
    "\n",
    "# Check if any columns are null\n",
    "is_null_column = np.all(arr == 0, axis=0)\n",
    "\n",
    "# Print the result\n",
    "print(is_null_column)"
   ]
  },
  {
   "cell_type": "code",
   "execution_count": 65,
   "metadata": {},
   "outputs": [
    {
     "name": "stdout",
     "output_type": "stream",
     "text": [
      "7\n"
     ]
    }
   ],
   "source": [
    "#61. Find the nearest value from a given value in an array\n",
    "\n",
    "# Create an array\n",
    "arr = np.array([1, 3, 7, 9, 15])\n",
    "\n",
    "# Given value\n",
    "value = 8\n",
    "\n",
    "# Find the nearest value\n",
    "nearest_value = arr[np.abs(arr - value).argmin()]\n",
    "\n",
    "# Print the result\n",
    "print(nearest_value)\n"
   ]
  },
  {
   "cell_type": "code",
   "execution_count": 66,
   "metadata": {},
   "outputs": [
    {
     "name": "stdout",
     "output_type": "stream",
     "text": [
      "21\n"
     ]
    }
   ],
   "source": [
    "#62. Considering two arrays with shape (1,3) and (3,1), how to compute their sum using an iterator?\n",
    "\n",
    "# Create the arrays\n",
    "arr1 = np.array([[1, 2, 3]])\n",
    "arr2 = np.array([[4], [5], [6]])\n",
    "\n",
    "# Get the iterators\n",
    "iter1 = np.nditer(arr1)\n",
    "iter2 = np.nditer(arr2)\n",
    "\n",
    "# Compute the sum using the iterators\n",
    "sum_result = 0\n",
    "for x, y in zip(iter1, iter2):\n",
    "    sum_result += (x + y)\n",
    "\n",
    "# Print the result\n",
    "print(sum_result)"
   ]
  },
  {
   "cell_type": "code",
   "execution_count": 67,
   "metadata": {},
   "outputs": [
    {
     "name": "stdout",
     "output_type": "stream",
     "text": [
      "MyArray\n",
      "[1, 2, 3, 4, 5]\n"
     ]
    }
   ],
   "source": [
    "class NamedArray:\n",
    "    def __init__(self, name, array):\n",
    "        self.name = name\n",
    "        self.array = array\n",
    "\n",
    "    def __str__(self):\n",
    "        return f\"Name: {self.name}\\nArray: {self.array}\"\n",
    "\n",
    "# Create an instance of the NamedArray class\n",
    "arr = NamedArray(\"MyArray\", [1, 2, 3, 4, 5])\n",
    "\n",
    "# Access the name attribute\n",
    "print(arr.name)  # Output: MyArray\n",
    "\n",
    "# Access the array attribute\n",
    "print(arr.array)  # Output: [1, 2, 3, 4, 5]\n",
    "\n",
    "# Print the NamedArray instance"
   ]
  },
  {
   "cell_type": "code",
   "execution_count": 68,
   "metadata": {},
   "outputs": [
    {
     "name": "stdout",
     "output_type": "stream",
     "text": [
      "[2 4 3 5 6]\n"
     ]
    }
   ],
   "source": [
    "#64. Consider a given vector, how to add 1 to each element indexed by a second vector (be careful with repeated indices)?\n",
    "# Given vector\n",
    "vector = np.array([1, 2, 3, 4, 5])\n",
    "\n",
    "# Index vector\n",
    "indices = np.array([0, 1, 3, 1, 4])\n",
    "\n",
    "# Create a copy of the vector\n",
    "result = vector.copy()\n",
    "\n",
    "# Add 1 to each element indexed by the second vector\n",
    "np.add.at(result, indices, 1)\n",
    "\n",
    "# Print the result\n",
    "print(result)"
   ]
  },
  {
   "cell_type": "code",
   "execution_count": 69,
   "metadata": {},
   "outputs": [
    {
     "name": "stdout",
     "output_type": "stream",
     "text": [
      "[1. 5. 9.]\n"
     ]
    }
   ],
   "source": [
    "#65. How to accumulate elements of a vector (X) to an array (F) based on an index list (I)? \n",
    "\n",
    "\n",
    "# Define the vector X and index list I\n",
    "X = np.array([1, 2, 3, 4, 5])\n",
    "I = np.array([0, 1, 1, 2, 2])\n",
    "\n",
    "# Calculate the size of the output array F\n",
    "F_size = np.max(I) + 1\n",
    "\n",
    "# Initialize the output array F with zeros\n",
    "F = np.zeros(F_size)\n",
    "\n",
    "# Accumulate elements of X into F based on the indices in I\n",
    "np.add.at(F, I, X)\n",
    "\n",
    "print(F)"
   ]
  },
  {
   "cell_type": "code",
   "execution_count": 70,
   "metadata": {},
   "outputs": [
    {
     "name": "stdout",
     "output_type": "stream",
     "text": [
      "Number of unique colors: 9998\n"
     ]
    }
   ],
   "source": [
    "#66. Considering a (w,h,3) image of (dtype=ubyte), compute the number of unique colors \n",
    "\n",
    "# Generate a random image with dimensions (w, h, 3)\n",
    "w, h = 100, 100\n",
    "image = np.random.randint(0, 256, size=(w, h, 3), dtype=np.uint8)\n",
    "\n",
    "# Reshape the image to a 2D array with shape (w * h, 3)\n",
    "reshaped_image = image.reshape(-1, 3)\n",
    "\n",
    "# Compute the number of unique colors\n",
    "unique_colors = np.unique(reshaped_image, axis=0)\n",
    "\n",
    "# Get the number of unique colors\n",
    "num_unique_colors = len(unique_colors)\n",
    "\n",
    "print(\"Number of unique colors:\", num_unique_colors)"
   ]
  },
  {
   "cell_type": "code",
   "execution_count": 71,
   "metadata": {},
   "outputs": [
    {
     "name": "stdout",
     "output_type": "stream",
     "text": [
      "[[ 86  95  83]\n",
      " [109  96 115]]\n"
     ]
    }
   ],
   "source": [
    "#67. Considering a four dimensions array, how to get sum over the last two axis at once?\n",
    "# Create a four-dimensional array\n",
    "array = np.random.randint(0, 10, size=(2, 3, 4, 5))\n",
    "\n",
    "# Compute the sum over the last two axes\n",
    "sum_last_two_axes = np.sum(array, axis=(-2, -1))\n",
    "\n",
    "# Print the result\n",
    "print(sum_last_two_axes)"
   ]
  },
  {
   "cell_type": "code",
   "execution_count": 72,
   "metadata": {},
   "outputs": [
    {
     "name": "stdout",
     "output_type": "stream",
     "text": [
      "[1.5 4.  8. ]\n"
     ]
    }
   ],
   "source": [
    "#68. Considering a one-dimensional vector D, how to compute means of subsets of D using a vector S of same size describing subset  indices?\n",
    "\n",
    "# Create the one-dimensional vector D\n",
    "D = np.array([1, 2, 3, 4, 5, 6, 7, 8, 9, 10])\n",
    "\n",
    "# Create the subset indices vector S\n",
    "S = np.array([0, 0, 1, 1, 1, 2, 2, 2, 2, 2])\n",
    "\n",
    "# Compute the means of the subsets\n",
    "means = np.bincount(S, weights=D) / np.bincount(S)\n",
    "\n",
    "# Print the result\n",
    "print(means)"
   ]
  },
  {
   "cell_type": "code",
   "execution_count": 73,
   "metadata": {},
   "outputs": [
    {
     "name": "stdout",
     "output_type": "stream",
     "text": [
      "[1 5 9]\n"
     ]
    }
   ],
   "source": [
    "#69. How to get the diagonal of a dot product?\n",
    "\n",
    "# Create two matrices A and B\n",
    "A = np.array([[1, 2, 3], [4, 5, 6], [7, 8, 9]])\n",
    "B = np.array([[1, 0, 0], [0, 1, 0], [0, 0, 1]])\n",
    "\n",
    "# Compute the dot product of A and B\n",
    "dot_product = np.einsum('ij, jk -> ik', A, B)\n",
    "\n",
    "# Get the diagonal elements of the dot product\n",
    "diagonal = np.diagonal(dot_product)\n",
    "\n",
    "# Print the result\n",
    "print(diagonal)"
   ]
  },
  {
   "cell_type": "code",
   "execution_count": 74,
   "metadata": {},
   "outputs": [
    {
     "name": "stdout",
     "output_type": "stream",
     "text": [
      "[1 0 0 0 2 0 0 0 3 0 0 0 4 0 0 0 5]\n"
     ]
    }
   ],
   "source": [
    "#70. Consider the vector [1, 2, 3, 4, 5], how to build a new vector with 3 consecutive zeros interleaved between each value?\n",
    "\n",
    "# Create the original vector\n",
    "original_vector = np.array([1, 2, 3, 4, 5])\n",
    "\n",
    "# Number of consecutive zeros to insert\n",
    "zeros_count = 3\n",
    "\n",
    "# Compute the length of the new vector\n",
    "new_length = original_vector.size + (original_vector.size - 1) * zeros_count\n",
    "\n",
    "# Create an array of zeros with the appropriate length\n",
    "zeros = np.zeros(new_length, dtype=original_vector.dtype)\n",
    "\n",
    "# Insert the original values and zeros at the correct positions\n",
    "zeros[::zeros_count + 1] = original_vector\n",
    "\n",
    "# Print the result\n",
    "print(zeros)"
   ]
  },
  {
   "cell_type": "code",
   "execution_count": 75,
   "metadata": {},
   "outputs": [
    {
     "name": "stdout",
     "output_type": "stream",
     "text": [
      "[[[4.14277717e-02 6.19516761e-02 3.99592997e-01]\n",
      "  [1.77706877e-01 1.73078551e-01 6.86755139e-01]\n",
      "  [2.99742480e-02 5.61322264e-02 4.28967575e-02]\n",
      "  [1.32070730e-03 3.72545814e-03 2.28851694e-02]\n",
      "  [7.62579409e-04 2.10868784e-02 9.46111479e-03]]\n",
      "\n",
      " [[2.89853194e-02 1.21303085e-01 2.14215773e-01]\n",
      "  [7.96772981e-02 1.52044127e-01 2.86246900e-02]\n",
      "  [4.04204191e-01 6.59958828e-02 9.11299846e-02]\n",
      "  [1.37556581e-01 3.64139372e-01 1.29689983e-01]\n",
      "  [4.17254600e-01 4.66091355e-01 2.10001903e-01]]\n",
      "\n",
      " [[4.77784042e-01 5.49269468e-01 3.74620901e-02]\n",
      "  [5.52396741e-02 1.03426826e-01 1.63019013e-01]\n",
      "  [2.11087796e-02 2.97152427e-03 2.12679662e-01]\n",
      "  [5.12273573e-01 3.63302882e-01 3.24574708e-01]\n",
      "  [7.63279846e-02 1.44661663e-01 5.48375087e-01]]\n",
      "\n",
      " [[2.81561050e-01 2.06594926e-01 1.38702255e-02]\n",
      "  [3.30757295e-01 3.78658621e-03 8.25049668e-01]\n",
      "  [5.00151161e-02 3.23396053e-01 2.22780497e-01]\n",
      "  [2.97245103e-01 3.66155904e-01 1.43257426e-01]\n",
      "  [2.32091858e-01 2.32236353e-01 5.69021760e-01]]\n",
      "\n",
      " [[4.46511630e-02 2.38103316e-02 2.87780658e-02]\n",
      "  [2.91290751e-01 3.67945584e-01 2.53074525e-01]\n",
      "  [5.91414388e-02 5.60128418e-01 6.24830676e-01]\n",
      "  [2.74185520e-01 3.00970154e-02 3.73104258e-01]\n",
      "  [2.34117010e-01 2.56683883e-02 8.16645156e-02]]]\n"
     ]
    }
   ],
   "source": [
    "#71. Consider an array of dimension (5,5,3), how to mulitply it by an array with dimensions (5,5)?\n",
    "# Create a three-dimensional array A with dimensions (5, 5, 3)\n",
    "A = np.random.random((5, 5, 3))\n",
    "\n",
    "# Create a two-dimensional array B with dimensions (5, 5)\n",
    "B = np.random.random((5, 5))\n",
    "\n",
    "# Multiply array A by array B\n",
    "result = A * B[:, :, np.newaxis]\n",
    "\n",
    "# Print the result\n",
    "print(result)"
   ]
  },
  {
   "cell_type": "code",
   "execution_count": 76,
   "metadata": {},
   "outputs": [
    {
     "name": "stdout",
     "output_type": "stream",
     "text": [
      "[[1 2 3]\n",
      " [7 8 9]\n",
      " [7 8 9]]\n"
     ]
    }
   ],
   "source": [
    "#72. How to swap two rows of an array?\n",
    "\n",
    "# Create a 2D array\n",
    "array = np.array([[1, 2, 3],\n",
    "                  [4, 5, 6],\n",
    "                  [7, 8, 9]])\n",
    "\n",
    "# Swap rows 1 and 2\n",
    "array[1], array[2] = array[2], array[1]\n",
    "\n",
    "# Print the result\n",
    "print(array)"
   ]
  },
  {
   "cell_type": "code",
   "execution_count": 77,
   "metadata": {},
   "outputs": [
    {
     "name": "stdout",
     "output_type": "stream",
     "text": [
      "[[ 1  2]\n",
      " [ 2  3]\n",
      " [ 3  4]\n",
      " [ 4  5]\n",
      " [ 5  6]\n",
      " [ 6  7]\n",
      " [ 7  8]\n",
      " [ 8  9]\n",
      " [ 9 10]\n",
      " [10 11]\n",
      " [11 12]]\n"
     ]
    }
   ],
   "source": [
    "#73. Consider a set of 10 triplets describing 10 triangles (with shared vertices), find the set of unique line segments composing all the  triangles \n",
    "\n",
    "# Set of 10 triplets describing triangles\n",
    "triplets = np.array([[1, 2, 3],\n",
    "                     [2, 3, 4],\n",
    "                     [3, 4, 5],\n",
    "                     [4, 5, 6],\n",
    "                     [5, 6, 7],\n",
    "                     [6, 7, 8],\n",
    "                     [7, 8, 9],\n",
    "                     [8, 9, 10],\n",
    "                     [9, 10, 11],\n",
    "                     [10, 11, 12]])\n",
    "\n",
    "# Reshape the triplets to form line segments\n",
    "line_segments = triplets.reshape(-1, 2)\n",
    "\n",
    "# Sort each line segment to ensure consistency\n",
    "line_segments.sort(axis=1)\n",
    "\n",
    "# Find the unique line segments\n",
    "unique_segments = np.unique(line_segments, axis=0)\n",
    "\n",
    "# Print the result\n",
    "print(unique_segments)"
   ]
  },
  {
   "cell_type": "code",
   "execution_count": 78,
   "metadata": {},
   "outputs": [
    {
     "name": "stdout",
     "output_type": "stream",
     "text": [
      "[1 2 2 3 3 4 4 4 5 5 5 5 6 6 6 6 7 7 7 7 8 8 8 8 8]\n"
     ]
    }
   ],
   "source": [
    "#74. Given a sorted array C that corresponds to a bincount, how to produce an array A such that np.bincount(A) == C?\n",
    "\n",
    "# Sorted array C corresponding to bincount\n",
    "C = np.array([0, 1, 2, 2, 3, 4, 4, 4, 5])\n",
    "\n",
    "# Produce array A such that np.bincount(A) == C\n",
    "A = np.repeat(np.arange(len(C)), C)\n",
    "\n",
    "# Print the result\n",
    "print(A)"
   ]
  },
  {
   "cell_type": "code",
   "execution_count": 80,
   "metadata": {},
   "outputs": [
    {
     "name": "stdout",
     "output_type": "stream",
     "text": [
      "[2. 3. 4. 5. 6. 7. 8. 9.]\n"
     ]
    }
   ],
   "source": [
    "#75. How to compute averages using a sliding window over an array? \n",
    "# Input array\n",
    "array = np.array([1, 2, 3, 4, 5, 6, 7, 8, 9, 10])\n",
    "\n",
    "# Window size\n",
    "window_size = 3\n",
    "\n",
    "# Define the weights for the sliding window\n",
    "weights = np.ones(window_size) / window_size\n",
    "\n",
    "# Compute the averages using the sliding window\n",
    "averages = np.convolve(array, weights, mode='valid')\n",
    "\n",
    "# Print the result\n",
    "print(averages)"
   ]
  },
  {
   "cell_type": "code",
   "execution_count": 81,
   "metadata": {},
   "outputs": [
    {
     "name": "stdout",
     "output_type": "stream",
     "text": [
      "[[1 2 3]\n",
      " [2 3 4]\n",
      " [3 4 5]]\n"
     ]
    }
   ],
   "source": [
    "# One-dimensional array Z\n",
    "Z = np.array([1, 2, 3, 4, 5])\n",
    "\n",
    "# Build the two-dimensional array\n",
    "n = 3  # Number of elements per row\n",
    "m = len(Z) - n + 1  # Number of rows\n",
    "result = np.zeros((m, n), dtype=Z.dtype)\n",
    "\n",
    "for i in range(m):\n",
    "    result[i] = Z[i:i+n]\n",
    "\n",
    "# Print the result\n",
    "print(result)"
   ]
  },
  {
   "cell_type": "code",
   "execution_count": 82,
   "metadata": {},
   "outputs": [
    {
     "name": "stdout",
     "output_type": "stream",
     "text": [
      "False\n",
      "-3.14\n"
     ]
    }
   ],
   "source": [
    "#77. How to negate a boolean, or to change the sign of a float inplace?\n",
    "\n",
    "b = True\n",
    "b = not b\n",
    "print(b)  # False\n",
    "\n",
    "f = 3.14\n",
    "f *= -1\n",
    "print(f)  # -3.14"
   ]
  },
  {
   "cell_type": "code",
   "execution_count": 83,
   "metadata": {},
   "outputs": [
    {
     "name": "stdout",
     "output_type": "stream",
     "text": [
      "[3.53553391 2.12132034 0.70710678]\n"
     ]
    }
   ],
   "source": [
    "#78. Consider 2 sets of points P0,P1 describing lines (2d) and a point p, how to compute distance from p to each line i (P0[i],P1[i])?\n",
    "\n",
    "def distance_to_lines(P0, P1, p):\n",
    "    # Convert points to NumPy arrays\n",
    "    P0 = np.array(P0)\n",
    "    P1 = np.array(P1)\n",
    "    p = np.array(p)\n",
    "\n",
    "    # Compute vectors along each line segment\n",
    "    v = P1 - P0\n",
    "\n",
    "    # Compute vectors from P0 to p\n",
    "    w = p - P0\n",
    "\n",
    "    # Compute dot products\n",
    "    dot_products = np.einsum('ij,ij->i', v, w)\n",
    "\n",
    "    # Compute squared lengths of each line segment\n",
    "    squared_lengths = np.einsum('ij,ij->i', v, v)\n",
    "\n",
    "    # Compute distances from p to each line\n",
    "    distances = np.abs(dot_products) / np.sqrt(squared_lengths)\n",
    "\n",
    "    return distances\n",
    "\n",
    "# Example usage\n",
    "P0 = [(1, 1), (2, 2), (3, 3)]\n",
    "P1 = [(4, 4), (5, 5), (6, 6)]\n",
    "p = (2, 5)\n",
    "\n",
    "distances = distance_to_lines(P0, P1, p)\n",
    "print(distances)"
   ]
  },
  {
   "cell_type": "code",
   "execution_count": 84,
   "metadata": {},
   "outputs": [
    {
     "name": "stdout",
     "output_type": "stream",
     "text": [
      "[[3.53553391 2.12132034 0.70710678]\n",
      " [3.53553391 2.12132034 0.70710678]\n",
      " [3.53553391 2.12132034 0.70710678]]\n"
     ]
    }
   ],
   "source": [
    "#79. Consider 2 sets of points P0,P1 describing lines (2d) and a set of points P, how to compute distance from each point j (P[j]) to each line i (P0[i],P1[i])?\n",
    "\n",
    "\n",
    "def distance_to_lines(P0, P1, P):\n",
    "    # Convert points to NumPy arrays\n",
    "    P0 = np.array(P0)\n",
    "    P1 = np.array(P1)\n",
    "    P = np.array(P)\n",
    "\n",
    "    # Compute vectors along each line segment\n",
    "    v = P1 - P0\n",
    "\n",
    "    # Initialize array to store distances\n",
    "    distances = np.zeros((len(P), len(P0)))\n",
    "\n",
    "    # Compute distances from each point in P to each line\n",
    "    for i, p in enumerate(P):\n",
    "        w = p - P0\n",
    "        dot_products = np.sum(v * w, axis=1)\n",
    "        squared_lengths = np.sum(v * v, axis=1)\n",
    "        distances[i] = np.abs(dot_products) / np.sqrt(squared_lengths)\n",
    "\n",
    "    return distances\n",
    "\n",
    "# Example usage\n",
    "P0 = [(1, 1), (2, 2), (3, 3)]\n",
    "P1 = [(4, 4), (5, 5), (6, 6)]\n",
    "P = [(2, 5), (3, 4), (4, 3)]\n",
    "\n",
    "distances = distance_to_lines(P0, P1, P)\n",
    "print(distances)"
   ]
  },
  {
   "cell_type": "code",
   "execution_count": 85,
   "metadata": {},
   "outputs": [],
   "source": [
    "#80. Consider an arbitrary array, write a function that extract a subpart with a fixed shape and centered on a given element (pad with a `fill` value when necessary)\n",
    "def extract_subpart(arr, shape, center, fill_value):\n",
    "    # Convert inputs to NumPy arrays\n",
    "    arr = np.array(arr)\n",
    "    shape = np.array(shape)\n",
    "\n",
    "    # Calculate the starting and ending indices for each dimension\n",
    "    start = np.maximum(center - shape // 2, 0)\n",
    "    end = np.minimum(start + shape, arr.shape)\n",
    "\n",
    "    # Create an empty array with the desired shape and fill it with the fill value\n",
    "    subpart = np.full(shape, fill_value)\n",
    "\n",
    "    # Calculate the indices for the subpart within the full array\n",
    "    subpart_start = start - (center - shape // 2)\n",
    "    subpart_end = subpart_start + (end - start)\n",
    "\n",
    "    # Copy the relevant portion from the full array to the subpart array\n",
    "    subpart[subpart_start[0]:subpart_end[0], subpart_start[1]:subpart_end[1]] = arr[start[0]:end[0], start[1]:end[1]]\n",
    "\n",
    "    return subpart"
   ]
  },
  {
   "cell_type": "code",
   "execution_count": 86,
   "metadata": {},
   "outputs": [
    {
     "name": "stdout",
     "output_type": "stream",
     "text": [
      "[[ 1  2  3  4]\n",
      " [ 2  3  4  5]\n",
      " [ 3  4  5  6]\n",
      " [ 4  5  6  7]\n",
      " [ 5  6  7  8]\n",
      " [ 6  7  8  9]\n",
      " [ 7  8  9 10]\n",
      " [ 8  9 10 11]\n",
      " [ 9 10 11 12]\n",
      " [10 11 12 13]\n",
      " [11 12 13 14]]\n"
     ]
    }
   ],
   "source": [
    "#81. Consider an array Z = [1,2,3,4,5,6,7,8,9,10,11,12,13,14], how to generate an array R = [[1,2,3,4], [2,3,4,5], [3,4,5,6], ..., [11,12,13,14]]?\n",
    "from numpy.lib.stride_tricks import sliding_window_view\n",
    "\n",
    "Z = np.array([1,2,3,4,5,6,7,8,9,10,11,12,13,14])\n",
    "window_size = 4\n",
    "\n",
    "R = sliding_window_view(Z, window_shape=(window_size,))\n",
    "print(R)"
   ]
  },
  {
   "cell_type": "code",
   "execution_count": 87,
   "metadata": {},
   "outputs": [
    {
     "name": "stdout",
     "output_type": "stream",
     "text": [
      "Rank: 2\n"
     ]
    }
   ],
   "source": [
    "#82. Compute a matrix rank\n",
    "\n",
    "# Create a matrix\n",
    "matrix = np.array([[1, 2, 3], [4, 5, 6], [7, 8, 9]])\n",
    "\n",
    "# Compute the rank of the matrix\n",
    "rank = np.linalg.matrix_rank(matrix)\n",
    "\n",
    "print(\"Rank:\", rank)"
   ]
  },
  {
   "cell_type": "code",
   "execution_count": 88,
   "metadata": {},
   "outputs": [
    {
     "name": "stdout",
     "output_type": "stream",
     "text": [
      "Most frequent value: 2\n"
     ]
    }
   ],
   "source": [
    "#83. How to find the most frequent value in an array?\n",
    "\n",
    "# Create an array\n",
    "arr = np.array([1, 2, 3, 2, 4, 2, 1, 3, 2, 2])\n",
    "\n",
    "# Count the occurrences of each value\n",
    "counts = np.bincount(arr)\n",
    "\n",
    "# Find the value with the maximum count\n",
    "most_frequent_value = np.argmax(counts)\n",
    "\n",
    "print(\"Most frequent value:\", most_frequent_value)"
   ]
  },
  {
   "cell_type": "code",
   "execution_count": 89,
   "metadata": {},
   "outputs": [
    {
     "name": "stdout",
     "output_type": "stream",
     "text": [
      "[[7 1 1]\n",
      " [8 2 5]\n",
      " [4 8 5]]\n",
      "\n",
      "[[1 1 2]\n",
      " [2 5 8]\n",
      " [8 5 5]]\n",
      "\n",
      "[[1 2 2]\n",
      " [5 8 4]\n",
      " [5 5 5]]\n",
      "\n",
      "[[2 2 4]\n",
      " [8 4 9]\n",
      " [5 5 9]]\n",
      "\n",
      "[[2 4 1]\n",
      " [4 9 4]\n",
      " [5 9 0]]\n",
      "\n",
      "[[4 1 8]\n",
      " [9 4 2]\n",
      " [9 0 2]]\n",
      "\n",
      "[[1 8 4]\n",
      " [4 2 7]\n",
      " [0 2 2]]\n",
      "\n",
      "[[8 4 4]\n",
      " [2 7 3]\n",
      " [2 2 5]]\n",
      "\n",
      "[[8 2 5]\n",
      " [4 8 5]\n",
      " [9 9 4]]\n",
      "\n",
      "[[2 5 8]\n",
      " [8 5 5]\n",
      " [9 4 9]]\n",
      "\n",
      "[[5 8 4]\n",
      " [5 5 5]\n",
      " [4 9 6]]\n",
      "\n",
      "[[8 4 9]\n",
      " [5 5 9]\n",
      " [9 6 2]]\n",
      "\n",
      "[[4 9 4]\n",
      " [5 9 0]\n",
      " [6 2 8]]\n",
      "\n",
      "[[9 4 2]\n",
      " [9 0 2]\n",
      " [2 8 7]]\n",
      "\n",
      "[[4 2 7]\n",
      " [0 2 2]\n",
      " [8 7 7]]\n",
      "\n",
      "[[2 7 3]\n",
      " [2 2 5]\n",
      " [7 7 4]]\n",
      "\n",
      "[[4 8 5]\n",
      " [9 9 4]\n",
      " [0 5 3]]\n",
      "\n",
      "[[8 5 5]\n",
      " [9 4 9]\n",
      " [5 3 3]]\n",
      "\n",
      "[[5 5 5]\n",
      " [4 9 6]\n",
      " [3 3 1]]\n",
      "\n",
      "[[5 5 9]\n",
      " [9 6 2]\n",
      " [3 1 4]]\n",
      "\n",
      "[[5 9 0]\n",
      " [6 2 8]\n",
      " [1 4 9]]\n",
      "\n",
      "[[9 0 2]\n",
      " [2 8 7]\n",
      " [4 9 7]]\n",
      "\n",
      "[[0 2 2]\n",
      " [8 7 7]\n",
      " [9 7 4]]\n",
      "\n",
      "[[2 2 5]\n",
      " [7 7 4]\n",
      " [7 4 1]]\n",
      "\n",
      "[[9 9 4]\n",
      " [0 5 3]\n",
      " [2 0 6]]\n",
      "\n",
      "[[9 4 9]\n",
      " [5 3 3]\n",
      " [0 6 7]]\n",
      "\n",
      "[[4 9 6]\n",
      " [3 3 1]\n",
      " [6 7 0]]\n",
      "\n",
      "[[9 6 2]\n",
      " [3 1 4]\n",
      " [7 0 8]]\n",
      "\n",
      "[[6 2 8]\n",
      " [1 4 9]\n",
      " [0 8 1]]\n",
      "\n",
      "[[2 8 7]\n",
      " [4 9 7]\n",
      " [8 1 2]]\n",
      "\n",
      "[[8 7 7]\n",
      " [9 7 4]\n",
      " [1 2 5]]\n",
      "\n",
      "[[7 7 4]\n",
      " [7 4 1]\n",
      " [2 5 7]]\n",
      "\n",
      "[[0 5 3]\n",
      " [2 0 6]\n",
      " [5 7 6]]\n",
      "\n",
      "[[5 3 3]\n",
      " [0 6 7]\n",
      " [7 6 8]]\n",
      "\n",
      "[[3 3 1]\n",
      " [6 7 0]\n",
      " [6 8 3]]\n",
      "\n",
      "[[3 1 4]\n",
      " [7 0 8]\n",
      " [8 3 7]]\n",
      "\n",
      "[[1 4 9]\n",
      " [0 8 1]\n",
      " [3 7 0]]\n",
      "\n",
      "[[4 9 7]\n",
      " [8 1 2]\n",
      " [7 0 3]]\n",
      "\n",
      "[[9 7 4]\n",
      " [1 2 5]\n",
      " [0 3 7]]\n",
      "\n",
      "[[7 4 1]\n",
      " [2 5 7]\n",
      " [3 7 1]]\n",
      "\n",
      "[[2 0 6]\n",
      " [5 7 6]\n",
      " [8 0 9]]\n",
      "\n",
      "[[0 6 7]\n",
      " [7 6 8]\n",
      " [0 9 3]]\n",
      "\n",
      "[[6 7 0]\n",
      " [6 8 3]\n",
      " [9 3 7]]\n",
      "\n",
      "[[7 0 8]\n",
      " [8 3 7]\n",
      " [3 7 0]]\n",
      "\n",
      "[[0 8 1]\n",
      " [3 7 0]\n",
      " [7 0 5]]\n",
      "\n",
      "[[8 1 2]\n",
      " [7 0 3]\n",
      " [0 5 4]]\n",
      "\n",
      "[[1 2 5]\n",
      " [0 3 7]\n",
      " [5 4 4]]\n",
      "\n",
      "[[2 5 7]\n",
      " [3 7 1]\n",
      " [4 4 2]]\n",
      "\n",
      "[[5 7 6]\n",
      " [8 0 9]\n",
      " [5 9 8]]\n",
      "\n",
      "[[7 6 8]\n",
      " [0 9 3]\n",
      " [9 8 8]]\n",
      "\n",
      "[[6 8 3]\n",
      " [9 3 7]\n",
      " [8 8 0]]\n",
      "\n",
      "[[8 3 7]\n",
      " [3 7 0]\n",
      " [8 0 6]]\n",
      "\n",
      "[[3 7 0]\n",
      " [7 0 5]\n",
      " [0 6 2]]\n",
      "\n",
      "[[7 0 3]\n",
      " [0 5 4]\n",
      " [6 2 7]]\n",
      "\n",
      "[[0 3 7]\n",
      " [5 4 4]\n",
      " [2 7 9]]\n",
      "\n",
      "[[3 7 1]\n",
      " [4 4 2]\n",
      " [7 9 9]]\n",
      "\n",
      "[[8 0 9]\n",
      " [5 9 8]\n",
      " [8 4 3]]\n",
      "\n",
      "[[0 9 3]\n",
      " [9 8 8]\n",
      " [4 3 3]]\n",
      "\n",
      "[[9 3 7]\n",
      " [8 8 0]\n",
      " [3 3 8]]\n",
      "\n",
      "[[3 7 0]\n",
      " [8 0 6]\n",
      " [3 8 4]]\n",
      "\n",
      "[[7 0 5]\n",
      " [0 6 2]\n",
      " [8 4 2]]\n",
      "\n",
      "[[0 5 4]\n",
      " [6 2 7]\n",
      " [4 2 1]]\n",
      "\n",
      "[[5 4 4]\n",
      " [2 7 9]\n",
      " [2 1 7]]\n",
      "\n",
      "[[4 4 2]\n",
      " [7 9 9]\n",
      " [1 7 6]]\n",
      "\n"
     ]
    }
   ],
   "source": [
    "#84. Extract all the contiguous 3x3 blocks from a random 10x10 matrix \n",
    "# Create a random 10x10 matrix\n",
    "matrix = np.random.randint(0, 10, (10, 10))\n",
    "\n",
    "# Extract the contiguous 3x3 blocks\n",
    "blocks = []\n",
    "for i in range(8):  # Iterate over rows (0 to 7)\n",
    "    for j in range(8):  # Iterate over columns (0 to 7)\n",
    "        block = matrix[i:i+3, j:j+3]  # Extract the 3x3 block\n",
    "        blocks.append(block)\n",
    "\n",
    "# Display the extracted blocks\n",
    "for block in blocks:\n",
    "    print(block)\n",
    "    print()"
   ]
  },
  {
   "cell_type": "code",
   "execution_count": 91,
   "metadata": {},
   "outputs": [
    {
     "name": "stdout",
     "output_type": "stream",
     "text": [
      "4\n",
      "2\n"
     ]
    }
   ],
   "source": [
    "#85. Create a 2D array subclass such that Z[i,j] == Z[j,i]\n",
    "\n",
    "class SymmetricArray(np.ndarray):\n",
    "    def __getitem__(self, index):\n",
    "        # Swap the indices for symmetry\n",
    "        swapped_index = (index[1], index[0])\n",
    "        return super().__getitem__(swapped_index)\n",
    "\n",
    "# Create a symmetric 2D array\n",
    "arr = np.array([[1, 2, 3], [4, 5, 6], [7, 8, 9]])\n",
    "sym_arr = arr.view(SymmetricArray)\n",
    "\n",
    "# Test the symmetry property\n",
    "print(sym_arr[0, 1])  # Output: 2\n",
    "print(sym_arr[1, 0])  # Output: 2"
   ]
  },
  {
   "cell_type": "code",
   "execution_count": 92,
   "metadata": {},
   "outputs": [
    {
     "name": "stdout",
     "output_type": "stream",
     "text": [
      "[[3.34386825]\n",
      " [3.70171959]\n",
      " [3.14564399]\n",
      " [3.63124351]]\n"
     ]
    }
   ],
   "source": [
    "#86. Consider a set of p matrices with shape (n,n) and a set of p vectors with shape (n,1).How to compute the sum of of the p matrix products at once? (result has shape (n,1))\n",
    "\n",
    "# Set the number of matrices and their shape\n",
    "p = 3\n",
    "n = 4\n",
    "\n",
    "# Create p matrices and p vectors\n",
    "matrices = [np.random.rand(n, n) for _ in range(p)]\n",
    "vectors = [np.random.rand(n, 1) for _ in range(p)]\n",
    "\n",
    "# Compute the sum of p matrix products\n",
    "result = np.sum([np.matmul(matrices[i], vectors[i]) for i in range(p)], axis=0)\n",
    "\n",
    "print(result)"
   ]
  },
  {
   "cell_type": "code",
   "execution_count": 93,
   "metadata": {},
   "outputs": [
    {
     "name": "stdout",
     "output_type": "stream",
     "text": [
      "[[ 120  376  632  888]\n",
      " [1144 1400 1656 1912]\n",
      " [2168 2424 2680 2936]\n",
      " [3192 3448 3704 3960]]\n"
     ]
    }
   ],
   "source": [
    "#87. Consider a 16x16 array, how to get the block-sum (block size is 4x4)?\n",
    "# Create a 16x16 array\n",
    "arr = np.arange(256).reshape(16, 16)\n",
    "\n",
    "# Define the block size\n",
    "block_size = 4\n",
    "\n",
    "# Reshape the array to a block-shaped 4D array\n",
    "block_arr = arr.reshape(4, 4, 4, 4)\n",
    "\n",
    "# Compute the block-sum along the last two axes\n",
    "block_sum = np.sum(block_arr, axis=(-2, -1))\n",
    "\n",
    "print(block_sum)"
   ]
  },
  {
   "cell_type": "code",
   "execution_count": 94,
   "metadata": {},
   "outputs": [],
   "source": [
    "#88. How to implement the Game of Life using numpy arrays?\n",
    "def game_of_life(grid, iterations):\n",
    "    \"\"\"\n",
    "    Simulates the Game of Life for a given number of iterations.\n",
    "\n",
    "    Args:\n",
    "        grid (numpy.ndarray): The initial grid of cells.\n",
    "        iterations (int): The number of iterations to simulate.\n",
    "\n",
    "    Returns:\n",
    "        numpy.ndarray: The final grid of cells after the specified number of iterations.\n",
    "    \"\"\"\n",
    "\n",
    "    for _ in range(iterations):\n",
    "        # Create a copy of the current grid for the next iteration\n",
    "        next_grid = grid.copy()\n",
    "\n",
    "        # Get the number of rows and columns in the grid\n",
    "        rows, cols = grid.shape\n",
    "\n",
    "        # Iterate over each cell in the grid\n",
    "        for i in range(rows):\n",
    "            for j in range(cols):\n",
    "                # Count the number of live neighbors\n",
    "                live_neighbors = np.sum(grid[max(i-1, 0):min(i+2, rows), max(j-1, 0):min(j+2, cols)]) - grid[i, j]\n",
    "\n",
    "                # Apply the rules of the Game of Life\n",
    "                if grid[i, j] == 1 and (live_neighbors < 2 or live_neighbors > 3):\n",
    "                    next_grid[i, j] = 0\n",
    "                elif grid[i, j] == 0 and live_neighbors == 3:\n",
    "                    next_grid[i, j] = 1\n",
    "\n",
    "        # Update the grid for the next iteration\n",
    "        grid = next_grid\n",
    "\n",
    "    return grid\n"
   ]
  },
  {
   "cell_type": "code",
   "execution_count": 95,
   "metadata": {},
   "outputs": [
    {
     "name": "stdout",
     "output_type": "stream",
     "text": [
      "[95 97 85 79 76]\n"
     ]
    }
   ],
   "source": [
    "#89. How to get the n largest values of an array \n",
    "\n",
    "# Create an array of random numbers\n",
    "arr = np.random.randint(0, 100, 20)\n",
    "\n",
    "# Number of largest values to retrieve\n",
    "n = 5\n",
    "\n",
    "# Get the n largest values\n",
    "largest_values = -np.partition(-arr, n)[:n]\n",
    "\n",
    "print(largest_values)"
   ]
  },
  {
   "cell_type": "code",
   "execution_count": 96,
   "metadata": {},
   "outputs": [
    {
     "name": "stdout",
     "output_type": "stream",
     "text": [
      "[(1, 'a', True), (1, 'a', False), (1, 'b', True), (1, 'b', False), (1, 'c', True), (1, 'c', False), (2, 'a', True), (2, 'a', False), (2, 'b', True), (2, 'b', False), (2, 'c', True), (2, 'c', False)]\n"
     ]
    }
   ],
   "source": [
    "#90. Given an arbitrary number of vectors, build the cartesian product (every combinations of every item)\n",
    "\n",
    "import itertools\n",
    "\n",
    "# Define the vectors\n",
    "vector1 = [1, 2]\n",
    "vector2 = ['a', 'b', 'c']\n",
    "vector3 = [True, False]\n",
    "\n",
    "# Build the cartesian product\n",
    "cartesian_product = list(itertools.product(vector1, vector2, vector3))\n",
    "\n",
    "print(cartesian_product)"
   ]
  },
  {
   "cell_type": "code",
   "execution_count": 97,
   "metadata": {},
   "outputs": [
    {
     "name": "stdout",
     "output_type": "stream",
     "text": [
      "[(1, 'Alice', 25) (2, 'Bob', 30) (3, 'Charlie', 35)]\n",
      "[1 2 3]\n",
      "['Alice' 'Bob' 'Charlie']\n",
      "[25 30 35]\n"
     ]
    }
   ],
   "source": [
    "#91. How to create a record array from a regular array?\n",
    "\n",
    "# Create a regular array\n",
    "regular_array = np.array([(1, 'Alice', 25),\n",
    "                          (2, 'Bob', 30),\n",
    "                          (3, 'Charlie', 35)],\n",
    "                         dtype=[('id', int), ('name', 'U10'), ('age', int)])\n",
    "\n",
    "# Create a record array from the regular array\n",
    "record_array = np.rec.array(regular_array)\n",
    "\n",
    "print(record_array)\n",
    "print(record_array.id)\n",
    "print(record_array.name)\n",
    "print(record_array.age)"
   ]
  },
  {
   "cell_type": "code",
   "execution_count": 98,
   "metadata": {},
   "outputs": [],
   "source": [
    "#92. Consider a large vector Z, compute Z to the power of 3 using 3 different methods\n",
    "\n",
    "# Create a large vector Z\n",
    "Z = np.random.rand(1000000)\n",
    "\n",
    "# Compute Z to the power of 3 using NumPy's power function\n",
    "result1 = np.power(Z, 3)\n",
    "\n",
    "# Compute Z to the power of 3 using a loop\n",
    "result3 = np.empty_like(Z)\n",
    "for i in range(len(Z)):\n",
    "    result3[i] = Z[i] ** 3"
   ]
  },
  {
   "cell_type": "code",
   "execution_count": 99,
   "metadata": {},
   "outputs": [
    {
     "name": "stdout",
     "output_type": "stream",
     "text": [
      "[]\n"
     ]
    }
   ],
   "source": [
    "#93. Consider two arrays A and B of shape (8,3) and (2,2). How to find rows of A that contain elements of each row of B regardless of the order of the elements in B?\n",
    "# Create arrays A and B\n",
    "A = np.array([[1, 2, 3],\n",
    "              [4, 5, 6],\n",
    "              [7, 8, 9],\n",
    "              [1, 2, 9],\n",
    "              [4, 6, 5],\n",
    "              [7, 9, 8],\n",
    "              [1, 2, 3],\n",
    "              [4, 5, 6]])\n",
    "\n",
    "B = np.array([[1, 2],\n",
    "              [4, 5]])\n",
    "\n",
    "# Find rows of A that contain elements of each row of B\n",
    "rows = np.where(np.logical_and.reduce(np.isin(A, B), axis=1))[0]\n",
    "\n",
    "print(rows)"
   ]
  },
  {
   "cell_type": "code",
   "execution_count": 100,
   "metadata": {},
   "outputs": [
    {
     "name": "stdout",
     "output_type": "stream",
     "text": [
      "[[2 2 2]\n",
      " [4 5 6]\n",
      " [7 7 7]\n",
      " [1 2 9]\n",
      " [4 6 5]\n",
      " [7 9 9]\n",
      " [4 5 6]\n",
      " [1 1 1]]\n"
     ]
    }
   ],
   "source": [
    "#94. Considering a 10x3 matrix, extract rows with unequal values (e.g. [2,2,3])\n",
    "# Create a 10x3 matrix\n",
    "matrix = np.array([[1, 2, 3],\n",
    "                   [2, 2, 2],\n",
    "                   [4, 5, 6],\n",
    "                   [7, 7, 7],\n",
    "                   [1, 2, 9],\n",
    "                   [4, 6, 5],\n",
    "                   [7, 9, 9],\n",
    "                   [1, 2, 3],\n",
    "                   [4, 5, 6],\n",
    "                   [1, 1, 1]])\n",
    "\n",
    "# Extract rows with unequal values\n",
    "unequal_rows = matrix[~np.all(matrix == matrix[0, :], axis=1)]\n",
    "\n",
    "print(unequal_rows)"
   ]
  },
  {
   "cell_type": "code",
   "execution_count": 101,
   "metadata": {},
   "outputs": [
    {
     "name": "stdout",
     "output_type": "stream",
     "text": [
      "[[1 0 1]\n",
      " [0 1 1]\n",
      " [0 0 1]\n",
      " [1 1 1]]\n"
     ]
    }
   ],
   "source": [
    "#95. Convert a vector of ints into a matrix binary representation\n",
    "\n",
    "\n",
    "# Create a vector of integers\n",
    "vector = np.array([5, 3, 1, 7])\n",
    "\n",
    "# Get the maximum value in the vector\n",
    "max_value = np.max(vector)\n",
    "\n",
    "# Determine the number of bits required to represent the maximum value\n",
    "num_bits = int(np.ceil(np.log2(max_value + 1)))\n",
    "\n",
    "# Convert the vector into a matrix binary representation\n",
    "binary_matrix = np.unpackbits(vector.astype(np.uint8)[:, np.newaxis], axis=1)\n",
    "binary_matrix = binary_matrix[:, -num_bits:]\n",
    "\n",
    "print(binary_matrix)"
   ]
  },
  {
   "cell_type": "code",
   "execution_count": 102,
   "metadata": {},
   "outputs": [
    {
     "name": "stdout",
     "output_type": "stream",
     "text": [
      "[[1 2 3]\n",
      " [4 5 6]\n",
      " [7 8 9]]\n"
     ]
    }
   ],
   "source": [
    "#96. Given a two dimensional array, how to extract unique rows?\n",
    "# Create a two-dimensional array\n",
    "array = np.array([[1, 2, 3],\n",
    "                  [4, 5, 6],\n",
    "                  [1, 2, 3],\n",
    "                  [7, 8, 9],\n",
    "                  [4, 5, 6]])\n",
    "\n",
    "# Extract unique rows\n",
    "unique_rows = np.unique(array, axis=0)\n",
    "\n",
    "print(unique_rows)"
   ]
  },
  {
   "cell_type": "code",
   "execution_count": 103,
   "metadata": {},
   "outputs": [
    {
     "name": "stdout",
     "output_type": "stream",
     "text": [
      "Inner product: 32\n",
      "Outer product:\n",
      "[[ 4  5  6]\n",
      " [ 8 10 12]\n",
      " [12 15 18]]\n",
      "Element-wise sum: [ 4 10 18]\n",
      "Element-wise multiplication: [ 4 10 18]\n"
     ]
    }
   ],
   "source": [
    "#97. Considering 2 vectors A & B, write the einsum equivalent of inner, outer, sum, and mul function\n",
    "\n",
    "# Define vectors A and B\n",
    "A = np.array([1, 2, 3])\n",
    "B = np.array([4, 5, 6])\n",
    "\n",
    "# Inner product of A and B\n",
    "inner_product = np.einsum('i,i', A, B)\n",
    "print(\"Inner product:\", inner_product)\n",
    "\n",
    "# Outer product of A and B\n",
    "outer_product = np.einsum('i,j->ij', A, B)\n",
    "print(\"Outer product:\")\n",
    "print(outer_product)\n",
    "\n",
    "# Element-wise sum of A and B\n",
    "elementwise_sum = np.einsum('i,i->i', A, B)\n",
    "print(\"Element-wise sum:\", elementwise_sum)\n",
    "\n",
    "# Element-wise multiplication of A and B\n",
    "elementwise_multiply = np.einsum('i,i->i', A, B)\n",
    "print(\"Element-wise multiplication:\", elementwise_multiply)"
   ]
  },
  {
   "cell_type": "code",
   "execution_count": 104,
   "metadata": {},
   "outputs": [
    {
     "name": "stdout",
     "output_type": "stream",
     "text": [
      "(1.0, 10.0)\n",
      "(1.4444444444444444, 14.444444444444445)\n",
      "(1.8888888888888888, 18.88888888888889)\n",
      "(2.3333333333333335, 23.333333333333336)\n",
      "(2.7777777777777777, 27.77777777777778)\n",
      "(3.2222222222222223, 32.22222222222222)\n",
      "(3.666666666666667, 36.66666666666667)\n",
      "(4.111111111111112, 41.111111111111114)\n",
      "(4.555555555555555, 45.55555555555556)\n",
      "(5.0, 50.0)\n"
     ]
    }
   ],
   "source": [
    "#98. Considering a path described by two vectors (X,Y), how to sample it using equidistant samples?\n",
    "\n",
    "# Define vectors X and Y\n",
    "X = np.array([1, 2, 3, 4, 5])\n",
    "Y = np.array([10, 20, 30, 40, 50])\n",
    "\n",
    "# Number of samples\n",
    "num_samples = 10\n",
    "\n",
    "# Calculate the total length of the path\n",
    "path_length = np.sum(np.sqrt(np.diff(X) ** 2 + np.diff(Y) ** 2))\n",
    "\n",
    "# Calculate the step size\n",
    "step_size = path_length / (num_samples - 1)\n",
    "\n",
    "# Calculate the cumulative distances along the path\n",
    "distances = np.cumsum(np.sqrt(np.diff(X) ** 2 + np.diff(Y) ** 2))\n",
    "\n",
    "# Add zero at the beginning to represent the starting point\n",
    "distances = np.insert(distances, 0, 0)\n",
    "\n",
    "# Sample the path using equidistant samples\n",
    "sampled_X = np.interp(np.linspace(0, path_length, num_samples), distances, X)\n",
    "sampled_Y = np.interp(np.linspace(0, path_length, num_samples), distances, Y)\n",
    "\n",
    "# Print the sampled path\n",
    "for x, y in zip(sampled_X, sampled_Y):\n",
    "    print(f\"({x}, {y})\")"
   ]
  },
  {
   "cell_type": "code",
   "execution_count": 105,
   "metadata": {},
   "outputs": [
    {
     "name": "stdout",
     "output_type": "stream",
     "text": [
      "[[1 2 2]\n",
      " [0 5 0]\n",
      " [2 1 2]\n",
      " [3 0 2]]\n"
     ]
    }
   ],
   "source": [
    "#99. Given an integer n and a 2D array X, select from X the rows which can be interpreted as draws from a multinomial distribution with n degrees, i.e., the rows which only contain integers and which sum to n. (★★★)\n",
    "\n",
    "# Define the integer n and the 2D array X\n",
    "n = 5\n",
    "X = np.array([[1, 2, 2],\n",
    "              [0, 5, 0],\n",
    "              [2, 1, 2],\n",
    "              [3, 0, 2]])\n",
    "\n",
    "# Select rows that only contain integers and sum to n\n",
    "selected_rows = X[(X.dtype == np.int64) & (np.sum(X, axis=1) == n)]\n",
    "\n",
    "print(selected_rows)"
   ]
  },
  {
   "cell_type": "code",
   "execution_count": 106,
   "metadata": {},
   "outputs": [
    {
     "name": "stdout",
     "output_type": "stream",
     "text": [
      "Bootstrapped 95% Confidence Interval: [3.7 7.3]\n"
     ]
    }
   ],
   "source": [
    "#100. Compute bootstrapped 95% confidence intervals for the mean of a 1D array X (i.e., resample the elements of an array with replacement N times, compute the mean of each sample, and then compute percentiles over the means).\n",
    "\n",
    "# Set the random seed for reproducibility\n",
    "np.random.seed(42)\n",
    "\n",
    "# Define the 1D array X\n",
    "X = np.array([1, 2, 3, 4, 5, 6, 7, 8, 9, 10])\n",
    "\n",
    "# Number of bootstrap samples\n",
    "N = 1000\n",
    "\n",
    "# Perform bootstrapping\n",
    "bootstrap_means = []\n",
    "for _ in range(N):\n",
    "    # Resample with replacement\n",
    "    bootstrap_sample = np.random.choice(X, size=len(X), replace=True)\n",
    "    # Compute the mean of the bootstrap sample\n",
    "    bootstrap_mean = np.mean(bootstrap_sample)\n",
    "    bootstrap_means.append(bootstrap_mean)\n",
    "\n",
    "# Compute the 95% confidence interval\n",
    "confidence_interval = np.percentile(bootstrap_means, [2.5, 97.5])\n",
    "\n",
    "print(\"Bootstrapped 95% Confidence Interval:\", confidence_interval)"
   ]
  }
 ],
 "metadata": {
  "kernelspec": {
   "display_name": "Python 3",
   "language": "python",
   "name": "python3"
  },
  "language_info": {
   "codemirror_mode": {
    "name": "ipython",
    "version": 3
   },
   "file_extension": ".py",
   "mimetype": "text/x-python",
   "name": "python",
   "nbconvert_exporter": "python",
   "pygments_lexer": "ipython3",
   "version": "3.11.6"
  }
 },
 "nbformat": 4,
 "nbformat_minor": 2
}
